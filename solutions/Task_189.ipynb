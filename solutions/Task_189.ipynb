{
  "nbformat": 4,
  "nbformat_minor": 0,
  "metadata": {
    "colab": {
      "name": "Task 189.ipynb",
      "provenance": [],
      "collapsed_sections": [],
      "authorship_tag": "ABX9TyNV7tmsHYMjqv6YGdHBiozr",
      "include_colab_link": true
    },
    "kernelspec": {
      "name": "python3",
      "display_name": "Python 3"
    },
    "language_info": {
      "name": "python"
    }
  },
  "cells": [
    {
      "cell_type": "markdown",
      "metadata": {
        "id": "view-in-github",
        "colab_type": "text"
      },
      "source": [
        "<a href=\"https://colab.research.google.com/github/igorlysov/leetcode-solutions/blob/main/solutions/Task_189.ipynb\" target=\"_parent\"><img src=\"https://colab.research.google.com/assets/colab-badge.svg\" alt=\"Open In Colab\"/></a>"
      ]
    },
    {
      "cell_type": "code",
      "execution_count": null,
      "metadata": {
        "id": "IngV4E0HPgJo"
      },
      "outputs": [],
      "source": [
        "\"\"\"\n",
        "Medium: 189. Rotate Array\n",
        "\n",
        "Given an array, rotate the array to the right by k steps, where k is non-negative.\n",
        "\n",
        "Input: nums = [1,2,3,4,5,6,7], k = 3\n",
        "Output: [5,6,7,1,2,3,4]\n",
        "Explanation:\n",
        "rotate 1 steps to the right: [7,1,2,3,4,5,6]\n",
        "rotate 2 steps to the right: [6,7,1,2,3,4,5]\n",
        "rotate 3 steps to the right: [5,6,7,1,2,3,4]\n",
        "\n",
        "Ideas: \n",
        "1) Reverse:\n",
        "We can notice that rotating an array 'k'-times is similar to reversing the nums[n-k...n] part of that \n",
        "array with nums[0...n-k-1]. How can we achive this without using slices?\n",
        "> Firstly, let's reverse the whole array -> [1,2,3,4,5,6,7] => [7,6,5,4,3,2,1]\n",
        "> Secondly, let's reverse the first k numbers -> [7,6,5,4,3,2,1] => [5,6,7,4,3,2,1]\n",
        "> Thirdly, let's reverse the (n - k) numbers after it -> [5,6,7,4,3,2,1] => [5,6,7,1,2,3,4]\n",
        "That's all we need to do.\n",
        "It gives us: O(n) time complexity, O(1) space complexity\n",
        "\"\"\"\n",
        "def reverse(nums: List[int], start: int, end: int) -> None:\n",
        "        while start < end:\n",
        "            nums[start], nums[end] =  nums[end], nums[start]\n",
        "            start += 1\n",
        "            end -= 1\n",
        "def rotate(nums: List[int], k: int) -> None:\n",
        "        n = len(nums)\n",
        "        k %= n      \n",
        "        reverse(nums, 0, n - 1)\n",
        "        reverse(nums, 0, k - 1)\n",
        "        reverse(nums, k, n - 1)"
      ]
    }
  ]
}