{
  "nbformat": 4,
  "nbformat_minor": 0,
  "metadata": {
    "colab": {
      "name": "Task 11.ipynb",
      "provenance": [],
      "collapsed_sections": [],
      "authorship_tag": "ABX9TyOg+FOhN6VRRQ3aQEr7QcrL",
      "include_colab_link": true
    },
    "kernelspec": {
      "name": "python3",
      "display_name": "Python 3"
    },
    "language_info": {
      "name": "python"
    }
  },
  "cells": [
    {
      "cell_type": "markdown",
      "metadata": {
        "id": "view-in-github",
        "colab_type": "text"
      },
      "source": [
        "<a href=\"https://colab.research.google.com/github/igorlysov/leetcode-solutions/blob/main/solutions/Task_11.ipynb\" target=\"_parent\"><img src=\"https://colab.research.google.com/assets/colab-badge.svg\" alt=\"Open In Colab\"/></a>"
      ]
    },
    {
      "cell_type": "code",
      "execution_count": null,
      "metadata": {
        "id": "IngV4E0HPgJo"
      },
      "outputs": [],
      "source": [
        "\"\"\"\n",
        "Medium: 11. Container With Most Water\n",
        "\n",
        "You are given an integer array height of length n. There are n vertical lines drawn such that the two endpoints \n",
        "of the ith line are (i, 0) and (i, height[i]). Find two lines that together with the x-axis form a container,\n",
        "such that the container contains the most water.\n",
        "\n",
        "Return the maximum amount of water a container can store.\n",
        "Notice that you may not slant the container.\n",
        "\n",
        "Idea:\n",
        "1) Binary search:\n",
        "> We can go from both sides to middle, trying to maximize the area. For computing an area we need to take minimal \n",
        "vertical line as a height and multiply it by the distance between both lines. \n",
        "> Binary search will allow us to take a maximum every time\n",
        "It gives us: O(n) time complexity, O(1) space complexity\n",
        "\"\"\"\n",
        "\n",
        "class Solution:\n",
        "    def maxArea(self, height: List[int]) -> int:\n",
        "        left, right = 0, len(height) - 1\n",
        "        maxArea = 0\n",
        "        while left < right:\n",
        "            maxArea = max(maxArea, min(height[left], height[right]) * (right - left))\n",
        "            if height[left] < height[right]:\n",
        "                left += 1\n",
        "            else: \n",
        "                right -= 1\n",
        "        return maxArea"
      ]
    }
  ]
}