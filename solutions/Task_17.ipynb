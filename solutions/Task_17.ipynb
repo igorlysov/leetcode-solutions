{
  "nbformat": 4,
  "nbformat_minor": 0,
  "metadata": {
    "colab": {
      "name": "Task 17.ipynb",
      "provenance": [],
      "collapsed_sections": [],
      "authorship_tag": "ABX9TyMTsb1za/aWEx0zxgjPmsRt",
      "include_colab_link": true
    },
    "kernelspec": {
      "name": "python3",
      "display_name": "Python 3"
    },
    "language_info": {
      "name": "python"
    }
  },
  "cells": [
    {
      "cell_type": "markdown",
      "metadata": {
        "id": "view-in-github",
        "colab_type": "text"
      },
      "source": [
        "<a href=\"https://colab.research.google.com/github/igorlysov/leetcode-solutions/blob/main/solutions/Task_17.ipynb\" target=\"_parent\"><img src=\"https://colab.research.google.com/assets/colab-badge.svg\" alt=\"Open In Colab\"/></a>"
      ]
    },
    {
      "cell_type": "code",
      "execution_count": null,
      "metadata": {
        "id": "IngV4E0HPgJo"
      },
      "outputs": [],
      "source": [
        "\"\"\"\n",
        "Medium: 17. Letter Combinations of a Phone Number\n",
        "\n",
        "Given a string containing digits from 2-9 inclusive, return all possible letter combinations \n",
        "that the number could represent. Return the answer in any order. A mapping of digit to letters\n",
        "(just like on the telephone buttons) is given below. Note that 1 does not map to any letters.\n",
        "\n",
        "Idea: \n",
        "1) DFS:\n",
        "\n",
        "\"\"\"\n",
        "class Solution:\n",
        "    def letterCombinations(self, digits: str) -> List[str]:\n",
        "        letterMap = {\"2\": \"abc\", \"3\": \"def\", \"4\": \"ghi\", \"5\": \"jkl\", \"6\": \"mno\", \"7\": \"pqrs\", \"8\": \"tuv\", \"9\": \"wxyz\"}\n",
        "        result = []\n",
        "        \n",
        "        if len(digits) == 0:\n",
        "            return result\n",
        "        self.DFS(digits, 0, letterMap, '', result)\n",
        "        return result\n",
        "    def DFS(self, digits: str, index: int, dictionary: dict, path: str, result: list) -> None:\n",
        "        if index >= len(digits):\n",
        "            result.append(path)\n",
        "            return\n",
        "        partialAnswer = dictionary[digits[index]]\n",
        "        for i in partialAnswer:\n",
        "            self.DFS(digits, index+1, dictionary, path + i, result)"
      ]
    }
  ]
}