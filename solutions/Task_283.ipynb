{
  "nbformat": 4,
  "nbformat_minor": 0,
  "metadata": {
    "colab": {
      "name": "Task 283.ipynb",
      "provenance": [],
      "collapsed_sections": [],
      "authorship_tag": "ABX9TyOTBaOibKNXD4OU97zhe2j4",
      "include_colab_link": true
    },
    "kernelspec": {
      "name": "python3",
      "display_name": "Python 3"
    },
    "language_info": {
      "name": "python"
    }
  },
  "cells": [
    {
      "cell_type": "markdown",
      "metadata": {
        "id": "view-in-github",
        "colab_type": "text"
      },
      "source": [
        "<a href=\"https://colab.research.google.com/github/igorlysov/leetcode-solutions/blob/main/solutions/Task_283.ipynb\" target=\"_parent\"><img src=\"https://colab.research.google.com/assets/colab-badge.svg\" alt=\"Open In Colab\"/></a>"
      ]
    },
    {
      "cell_type": "code",
      "execution_count": null,
      "metadata": {
        "id": "IngV4E0HPgJo"
      },
      "outputs": [],
      "source": [
        "\"\"\"\n",
        "Easy: 283. Move Zeroes\n",
        "\n",
        "Given an integer array nums, move all 0's to the end of it while maintaining the \n",
        "relative order of the non-zero elements. Note that you must do this in-place \n",
        "without making a copy of the array.\n",
        "Example 1:\n",
        "Input: nums = [0,1,0,3,12]\n",
        "Output: [1,3,12,0,0]\n",
        "\n",
        "Ideas: \n",
        "1) Two pointers - slow and fast:\n",
        "> nonZeroPointer - will move if we meet non-zero number and\n",
        "current - is just a number pointer\n",
        "> > nonZeroPointer = current = 0 -> [(0), 1, 0, 3, 12]\n",
        "> > nonZeroPointer = 0, current = 1 and nums[current] != 0 -> [(0) - nonZeroPointer, (1) - current,...] => [1, 0, 0,...] \n",
        "    nonZeroPointer = current = 1\n",
        "> > nonZeroPointer = 1, current = 2 -> [1, (0) - nonZeroPointer, (0) - current, 3...] \n",
        "> > nonZeroPointer = 1, current = 3 and nums[current] != 0 -> [1, (0) - nonZeroPointer, 0, (3) - current...] => [1, 3, 0, (0), 12]\n",
        "    nonZeroPointer = current = 3\n",
        "> > nonZeroPointer = 3, current = 4 and nums[current] != 0 -> [1, 3, 0, (0) - nonZeroPointer, (12) - current] => [1, 3, 12, 0, 0]\n",
        "It gives us: O(n) time complexity, O(1) space complexity\n",
        "\"\"\"\n",
        "def moveZeroes(nums: List[int]) -> None:\n",
        "        \"\"\"\n",
        "        Do not return anything, modify nums in-place instead.\n",
        "        \"\"\"\n",
        "        nonZeroPointer = 0\n",
        "        for current in range(len(nums)):\n",
        "            if nums[current] != 0:\n",
        "                temp = nums[nonZeroPointer]\n",
        "                nums[nonZeroPointer] = nums[current]\n",
        "                nums[current] = temp\n",
        "                nonZeroPointer += 1"
      ]
    }
  ]
}