{
  "nbformat": 4,
  "nbformat_minor": 0,
  "metadata": {
    "colab": {
      "name": "Task 66.ipynb",
      "provenance": [],
      "collapsed_sections": [],
      "authorship_tag": "ABX9TyPmatCm82tYUEae4x8FU/+x",
      "include_colab_link": true
    },
    "kernelspec": {
      "name": "python3",
      "display_name": "Python 3"
    },
    "language_info": {
      "name": "python"
    }
  },
  "cells": [
    {
      "cell_type": "markdown",
      "metadata": {
        "id": "view-in-github",
        "colab_type": "text"
      },
      "source": [
        "<a href=\"https://colab.research.google.com/github/igorlysov/leetcode-solutions/blob/main/solutions/Task_66.ipynb\" target=\"_parent\"><img src=\"https://colab.research.google.com/assets/colab-badge.svg\" alt=\"Open In Colab\"/></a>"
      ]
    },
    {
      "cell_type": "code",
      "execution_count": null,
      "metadata": {
        "id": "IngV4E0HPgJo"
      },
      "outputs": [],
      "source": [
        "\"\"\"\n",
        "Easy: 66. Plus One\n",
        "\n",
        "You are given a large integer represented as an integer array digits, where each digits[i] is the ith digit of the integer. \n",
        "The digits are ordered from most significant to least significant in left-to-right order. The large integer does not contain any leading 0's.\n",
        "Increment the large integer by one and return the resulting array of digits.\n",
        "\n",
        "Ideas: \n",
        "if our array is [9] we can just return [1, 0] cause it`s the only possible case of such type. If the last digit of the array is '9', we \n",
        "recursevly call our function to increment the last element of digits[0:last-1] (our array without the last digit) and concatenate the [0]. If \n",
        "everything is okay, we can just increment the last one and return the array itself.\n",
        "It gives us: O(1) time complexity, O(1) space complexity\n",
        "\"\"\"\n",
        "def plusOne(digits: list) -> list:\n",
        "  if digits[-1] == 9 and len(digits) == 1:\n",
        "    return [1, 0]\n",
        "  elif digits[-1] == 9:\n",
        "    return plusOne(digits[0:-1]) + [0]\n",
        "  else:\n",
        "    digits[-1] += 1\n",
        "    return digits"
      ]
    }
  ]
}