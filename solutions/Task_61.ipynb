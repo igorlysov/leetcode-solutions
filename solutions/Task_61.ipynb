{
  "nbformat": 4,
  "nbformat_minor": 0,
  "metadata": {
    "colab": {
      "name": "Task 61.ipynb",
      "provenance": [],
      "collapsed_sections": [],
      "authorship_tag": "ABX9TyOEqhPiMl7URwZoBFjnWESm",
      "include_colab_link": true
    },
    "kernelspec": {
      "name": "python3",
      "display_name": "Python 3"
    },
    "language_info": {
      "name": "python"
    }
  },
  "cells": [
    {
      "cell_type": "markdown",
      "metadata": {
        "id": "view-in-github",
        "colab_type": "text"
      },
      "source": [
        "<a href=\"https://colab.research.google.com/github/igorlysov/leetcode-solutions/blob/main/solutions/Task_61.ipynb\" target=\"_parent\"><img src=\"https://colab.research.google.com/assets/colab-badge.svg\" alt=\"Open In Colab\"/></a>"
      ]
    },
    {
      "cell_type": "code",
      "execution_count": null,
      "metadata": {
        "id": "IngV4E0HPgJo"
      },
      "outputs": [],
      "source": [
        "\"\"\"\n",
        "Medium: 61. Rotate List\n",
        "\n",
        "Given the head of a linked list, rotate the list to the right by k places.\n",
        "\n",
        "Input: head = [1 -> 2 -> 3 -> 4 -> 5], k = 2\n",
        "Output: [4 -> 5 -> 1 -> 2 -> 3]\n",
        "\n",
        "Ideas: \n",
        "1) Ring:\n",
        "> We can work with a linked list like a ring if we define the tail pointer to the head\n",
        "> > 1 -> 2 -> 3 -> 4 -> 5 => head = 1 -> 2 -> 3 -> 4 -> 5 -> = head\n",
        "> >                                 |- - - - - - - - - - - |\n",
        "> Now we can easily find a new head and tail: new head is set at (n - k) position\n",
        "> and a new tail is placed before new head - at (n - k - 1) position\n",
        "> After redefining head and tail we simply break the ring and return new head\n",
        "It gives us: O(n) time complexity, O(1) space complexity\n",
        "\"\"\"\n",
        "class ListNode:\n",
        "    def __init__(self, val=0, next=None):\n",
        "        self.val = val\n",
        "        self.next = next\n",
        "def rotateRight(head: Optional[ListNode], k: int) -> Optional[ListNode]:\n",
        "    if not head:\n",
        "        return None\n",
        "    if not head.next:\n",
        "        return head\n",
        "    old_tail = head\n",
        "    length = 1\n",
        "    while old_tail.next:\n",
        "         old_tail = old_tail.next\n",
        "         length += 1\n",
        "    old_tail.next = head\n",
        "        # 1-> 2 -> 3 -> 4 -> 5\n",
        "        # New head is 4 at position (n-k)\n",
        "        # New tail is before new head - (n-k-1) position\n",
        "    new_tail = head\n",
        "    for i in range((length - k - 1) % length):\n",
        "        new_tail = new_tail.next\n",
        "    new_head = new_tail.next\n",
        "        \n",
        "    new_tail.next = None\n",
        "    return new_head"
      ]
    }
  ]
}