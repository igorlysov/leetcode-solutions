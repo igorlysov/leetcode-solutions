{
  "nbformat": 4,
  "nbformat_minor": 0,
  "metadata": {
    "colab": {
      "name": "Task 167.ipynb",
      "provenance": [],
      "collapsed_sections": [],
      "authorship_tag": "ABX9TyP3nLQHYxwdEl8mKpT50+5O",
      "include_colab_link": true
    },
    "kernelspec": {
      "name": "python3",
      "display_name": "Python 3"
    },
    "language_info": {
      "name": "python"
    }
  },
  "cells": [
    {
      "cell_type": "markdown",
      "metadata": {
        "id": "view-in-github",
        "colab_type": "text"
      },
      "source": [
        "<a href=\"https://colab.research.google.com/github/igorlysov/leetcode-solutions/blob/main/solutions/Task_167.ipynb\" target=\"_parent\"><img src=\"https://colab.research.google.com/assets/colab-badge.svg\" alt=\"Open In Colab\"/></a>"
      ]
    },
    {
      "cell_type": "code",
      "execution_count": null,
      "metadata": {
        "id": "IngV4E0HPgJo"
      },
      "outputs": [],
      "source": [
        "\"\"\"\n",
        "Easy: 167. Two Sum II - Input Array Is Sorted\n",
        "\n",
        "Given a 1-indexed array of integers numbers that is already sorted in non-decreasing order, \n",
        "find two numbers such that they add up to a specific target number. Let these two numbers be\n",
        "numbers[index1] and numbers[index2] where 1 <= index1 < index2 <= numbers.length.\n",
        "\n",
        "Return the indices of the two numbers, index1 and index2, added by one as an integer array [index1, index2] of length 2.\n",
        "The tests are generated such that there is exactly one solution. You may not use the same element twice.\n",
        "\n",
        "Ideas:\n",
        "1) Two pointers:\n",
        "Classic two pointers approach - we are moving from the edges to the centre.\n",
        "It gives us: O(n) time complexity, O(1) space complexity.\n",
        "\"\"\"\n",
        "def twoSum(numbers: List[int], target: int) -> List[int]:\n",
        "        left, right = 0, len(numbers) - 1\n",
        "        while left < right:\n",
        "            if numbers[left] == target - numbers[right]:\n",
        "                return [left + 1, right + 1]\n",
        "            if numbers[left] < target - numbers[right]:\n",
        "                left += 1\n",
        "            if numbers[left] > target - numbers[right]:\n",
        "                right -= 1\n",
        "        return [-1, -1]"
      ]
    }
  ]
}