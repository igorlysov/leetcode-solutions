{
  "nbformat": 4,
  "nbformat_minor": 0,
  "metadata": {
    "colab": {
      "name": "Task 198.ipynb",
      "provenance": [],
      "collapsed_sections": [],
      "authorship_tag": "ABX9TyNKQBy5wZhmqyFkDLjyaiuh",
      "include_colab_link": true
    },
    "kernelspec": {
      "name": "python3",
      "display_name": "Python 3"
    },
    "language_info": {
      "name": "python"
    }
  },
  "cells": [
    {
      "cell_type": "markdown",
      "metadata": {
        "id": "view-in-github",
        "colab_type": "text"
      },
      "source": [
        "<a href=\"https://colab.research.google.com/github/igorlysov/leetcode-solutions/blob/main/solutions/Task_198.ipynb\" target=\"_parent\"><img src=\"https://colab.research.google.com/assets/colab-badge.svg\" alt=\"Open In Colab\"/></a>"
      ]
    },
    {
      "cell_type": "code",
      "execution_count": null,
      "metadata": {
        "id": "IngV4E0HPgJo"
      },
      "outputs": [],
      "source": [
        "\"\"\"\n",
        "Medium: 198. House Robber\n",
        "\n",
        "You are a professional robber planning to rob houses along a street. Each house has a certain amount of \n",
        "money stashed, the only constraint stopping you from robbing each of them is that adjacent houses have \n",
        "security systems connected and it will automatically contact the police if two adjacent houses were \n",
        "broken into on the same night.\n",
        "\n",
        "Given an integer array nums representing the amount of money of each house, return the maximum \n",
        "amount of money you can rob tonight without alerting the police.\n",
        "\n",
        "Ideas: \n",
        "GLOBAL IDEA: \n",
        "> on the i_th itteration robber has two options:\n",
        "> > 1. move on to the next house - (i + 1)_th\n",
        "> > 2. rob i_th and (i + 2)_th\n",
        "> It leads to the next formula:\n",
        "> > robHouse(i) = max(robHouse(i + 1), robHouse(i + 2) + nums[i])\n",
        "\n",
        "1) Recursion and memo:\n",
        "> Simple idea of memorization results of our recursion\n",
        "It gives us: O(n) time complexity, O(n) space complexity, but is bad because of recursion\n",
        "\n",
        "2) Bottom-up dynamic programming or tabulation:\n",
        "> let's get rid of the recursion and just use an array to keep our calculation for each house.\n",
        "We have some initioal conditions for our array, which will be a good starting point:\n",
        "> > Consider N as len(nums)\n",
        "> > if we are on the N_th house - there is no houses to rob so there is no profit -> MaxRobberyProfit[N] = 0\n",
        "> > if we are on the (N - 1)_th house - there is one house to rob, so we need to rob it -> MaxRobberyProfit[N - 1] = nums[N - 1]\n",
        "> Now, we can go backwards to 0_th house using the same formula as mentioned above.\\\n",
        "It gives us: O(n) time complexity, O(n) space complexity (better cause there is no recursion)\n",
        "\n",
        "3) Optimised dynamic programming:\n",
        "> we can notice that we only need to know to houses to achive the maximum profit - next house and next next house\n",
        "It gives us: O(n) time complexity, O(1) space complexity\n",
        "\"\"\"\n",
        "# 1 # \n",
        "class MemoSolution:\n",
        "  def __init__(self):\n",
        "    self.memo = {}\n",
        "  def rob(self, nums: list) -> int:\n",
        "    return self.robFrom(0, nums)\n",
        "  def robFrom(self, position: int, nums: list) -> int:\n",
        "    if position >= len(nums):\n",
        "      return 0\n",
        "    if position in self.memo:\n",
        "      return self.memo[position]\n",
        "    answer = max(self.robFrom(position + 1, nums), self.robFrom(position + 2, nums) + nums[position])\n",
        "    self.memo[position] = answer\n",
        "    return answer\n",
        "\n",
        "# 2 #\n",
        "class TabulationSolution:\n",
        "  def rob(self, nums: list) -> int:\n",
        "    N = len(nums)\n",
        "    MaxRobberyProfit = [0] * (N + 1)\n",
        "    MaxRobberyProfit[N], MaxRobberyProfit[N - 1] = 0, nums[N - 1]\n",
        "    for i in range(N - 2, -1, -1):\n",
        "      MaxRobberyProfit[i] = max(MaxRobberyProfit[i + 1], MaxRobberyProfit[i + 2] + nums[i])\n",
        "    return MaxRobberyProfit[0]\n",
        "\n",
        "# 3 # \n",
        "class OptimisedSolution:\n",
        "  def rob(self, nums: list) -> int:\n",
        "    N = len(nums)\n",
        "    robNext, robNextPlusOne = nums[N - 1], 0\n",
        "    for i in range(N - 2, -1, -1):\n",
        "      current = max(robNext, robNextPlusOne + nums[i])\n",
        "      robNextPlusOne = robNext\n",
        "      robNext = current\n",
        "    return robNext"
      ]
    }
  ]
}