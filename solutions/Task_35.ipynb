{
  "nbformat": 4,
  "nbformat_minor": 0,
  "metadata": {
    "colab": {
      "name": "Task 35.ipynb",
      "provenance": [],
      "collapsed_sections": []
    },
    "kernelspec": {
      "name": "python3",
      "display_name": "Python 3"
    },
    "language_info": {
      "name": "python"
    }
  },
  "cells": [
    {
      "cell_type": "code",
      "execution_count": null,
      "metadata": {
        "id": "IngV4E0HPgJo"
      },
      "outputs": [],
      "source": [
        "\"\"\"\n",
        "Easy: Task 35. Search Insert Position\n",
        "\n",
        "Given a sorted array of distinct integers and a target value, return the index if the\n",
        "target is found. If not, return the index where it would be if it were inserted in order.\n",
        "\n",
        "Ideas: Binary search. If the 'target' is not in 'nums' the 'left' pointer will tell us\n",
        "where 'target' should be.\n",
        "It gives us: O(N) time complexity, O(1) space complexity\n",
        "\"\"\"\n",
        "def searchInsert(nums: list, target: int) -> int:\n",
        "  left, right = 0, len(nums) - 1\n",
        "  while left <= right:\n",
        "    middle = (left + right) // 2\n",
        "    if nums[middle] == target:\n",
        "      return middle\n",
        "    if nums[middle] < target:\n",
        "      left = middle + 1\n",
        "    else: \n",
        "      right = middle - 1\n",
        "  return left"
      ]
    }
  ]
}