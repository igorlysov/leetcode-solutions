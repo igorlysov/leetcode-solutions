{
  "nbformat": 4,
  "nbformat_minor": 0,
  "metadata": {
    "colab": {
      "name": "Task 49.ipynb",
      "provenance": [],
      "collapsed_sections": [],
      "authorship_tag": "ABX9TyOjxSLcCBhRr6UeUeMuOSZ9",
      "include_colab_link": true
    },
    "kernelspec": {
      "name": "python3",
      "display_name": "Python 3"
    },
    "language_info": {
      "name": "python"
    }
  },
  "cells": [
    {
      "cell_type": "markdown",
      "metadata": {
        "id": "view-in-github",
        "colab_type": "text"
      },
      "source": [
        "<a href=\"https://colab.research.google.com/github/igorlysov/leetcode-solutions/blob/main/solutions/Task_49.ipynb\" target=\"_parent\"><img src=\"https://colab.research.google.com/assets/colab-badge.svg\" alt=\"Open In Colab\"/></a>"
      ]
    },
    {
      "cell_type": "code",
      "execution_count": null,
      "metadata": {
        "id": "IngV4E0HPgJo"
      },
      "outputs": [],
      "source": [
        "\"\"\"\n",
        "Medium: 49. Group Anagrams\n",
        "\n",
        "Given an array of strings strs, group the anagrams together. You can return the answer in any order.\n",
        "An Anagram is a word or phrase formed by rearranging the letters of a different word or phrase, \n",
        "typically using all the original letters exactly once.\n",
        "\n",
        "Idea: \n",
        "1) We can sort all the words and group the equal\n",
        "It gives us: O(m * n log n) (m - amount of words, n - size of word) time complexity, O(1)\n",
        "\n",
        "2) we can match anagrams by the array of different letter frequencies with hashmap and take the keys as an answer\n",
        "It gives us: O(m * n) (m - amount of words, n - size of word) time complexity, O(k) (k - number of anagram groups)\n",
        "\"\"\"\n",
        "def groupAnagrams(self, strs: List[str]) -> List[List[str]]:\n",
        "        hashmap = defaultdict(list)\n",
        "        for word in strs:\n",
        "            counter = [0] * 26\n",
        "            for letter in word:\n",
        "                counter[ord(letter) - ord('a')] += 1\n",
        "            hashmap[tuple(counter)].append(word)\n",
        "        return hashmap.values()"
      ]
    }
  ]
}