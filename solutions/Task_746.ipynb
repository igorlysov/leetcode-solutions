{
  "nbformat": 4,
  "nbformat_minor": 0,
  "metadata": {
    "colab": {
      "name": "Task 746.ipynb",
      "provenance": [],
      "collapsed_sections": [],
      "authorship_tag": "ABX9TyMIc5NONSaeeAJwOBxltkZe",
      "include_colab_link": true
    },
    "kernelspec": {
      "name": "python3",
      "display_name": "Python 3"
    },
    "language_info": {
      "name": "python"
    }
  },
  "cells": [
    {
      "cell_type": "markdown",
      "metadata": {
        "id": "view-in-github",
        "colab_type": "text"
      },
      "source": [
        "<a href=\"https://colab.research.google.com/github/igorlysov/leetcode-solutions/blob/main/solutions/Task_746.ipynb\" target=\"_parent\"><img src=\"https://colab.research.google.com/assets/colab-badge.svg\" alt=\"Open In Colab\"/></a>"
      ]
    },
    {
      "cell_type": "code",
      "execution_count": null,
      "metadata": {
        "id": "IngV4E0HPgJo"
      },
      "outputs": [],
      "source": [
        "\"\"\"\n",
        "Easy: 746. Min Cost Climbing Stairs\n",
        "\n",
        "You are given an integer array cost where cost[i] is the cost of ith step on\n",
        "a staircase. Once you pay the cost, you can either climb one or two steps.\n",
        "You can either start from the step with index 0, or the step with index 1.\n",
        "Return the minimum cost to reach the top of the floor.\n",
        "\n",
        "Ideas: \n",
        "1) Dynamic Programming (Tabulation):\n",
        "> Let's look at an example costs = [0,1,2,3,4,5]. Since we can take 1 or 2 steps at a time, we need to reach either step 4 or step 5 (0-indexed),\n",
        "and then pay the respective cost to reach the top. For this example, to reach step 4 optimally would cost 2 by taking path 0 --> 2 --> 4 \n",
        "(we're not counting the cost of step 4 yet since we are only talking about reaching the step right now). To reach step 5 optimally would cost 4 by taking path 1 --> 3 --> 5.\n",
        "> Now, imagine that before we started the problem, somebody came up to us and said \"to optimally reach step 4 costs 2 and to optimally reach step 5 costs 4.\" Well, \n",
        "then the problem is trivial - the answer is the minimum of 2 + cost[4] = 6 and 4 + cost[5] = 9. The only reason this was so easy was because we already knew the cost to reach steps 4 and 5.\n",
        "So how do we find the minimum cost to reach step 4 or step 5? Well, you might notice that it's the exact same problem, just with a smaller input. For example, \n",
        "finding the minimum cost to reach step 4 is like solving the original problem with input [0,1,2,3] (step 4 is the \"top of the floor\" now). To solve this subproblem, we need to \n",
        "find the minimum cost to reach steps 2 and 3, which requires us to answer the original problem for inputs [0,1] and [0,1,2].\n",
        "> This pattern is known as a recurrence relation, and in this case, the minimum cost to reach the i_th step is equal to: \n",
        "> > minimumCost[i] = min(minimumCost[i - 1] + cost[i - 1], minimumCost[i - 2] + cost[i - 2]). \n",
        "> As you can see, we get the solution for the i_th step by using solutions from earlier steps. So, when does the sequence terminate? For this question, \n",
        "the base cases are given in the problem description - we are allowed to start at either step 0 or step 1, so minimumCost[0] and minimumCost[1] are both 0.\n",
        "It gives us: O(n) time complexity, O(n) space complexity\n",
        "\n",
        "2) Space optimization - Bottom-Up Dynamic Programming:\n",
        "> We can notice that to calculate the cost of 12_th (for example) step, we don't need to know the costs of [1_th, 2_th, ..., 11_th] steps, \n",
        "we only need 10_th and 11_th.\n",
        "It gives us: O(n) time complexity, O(1) space complexity\n",
        "\"\"\"\n",
        "def minCostClimbingStairs1(cost: List[int]) -> int:\n",
        "        # The array's length should be 1 longer than the length of cost\n",
        "        # This is because we can treat the \"top floor\" as a step to reach\n",
        "        minimum_cost = [0] * (len(cost) + 1)\n",
        "        \n",
        "        # Start iteration from step 2, since the minimum cost of reaching\n",
        "        # step 0 and step 1 is 0\n",
        "        for i in range(2, len(cost) + 1):\n",
        "            take_one_step = minimum_cost[i - 1] + cost[i - 1]\n",
        "            take_two_steps = minimum_cost[i - 2] + cost[i - 2]\n",
        "            minimum_cost[i] = min(take_one_step, take_two_steps)\n",
        "\n",
        "        # The final element in minimum_cost refers to the top floor\n",
        "        return minimum_cost[-1]\n",
        "def minCostClimbingStairs2(cost: List[int]) -> int:\n",
        "        down_one = down_two = 0\n",
        "        for i in range(2, len(cost) + 1):\n",
        "            temp_cost = down_one\n",
        "            down_one = min(down_one + cost[i - 1], down_two + cost[i - 2])\n",
        "            down_two = temp_cost\n",
        "        return down_one"
      ]
    }
  ]
}