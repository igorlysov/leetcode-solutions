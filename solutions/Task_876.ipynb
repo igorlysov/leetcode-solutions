{
  "nbformat": 4,
  "nbformat_minor": 0,
  "metadata": {
    "colab": {
      "name": "Task 876.ipynb",
      "provenance": [],
      "collapsed_sections": [],
      "authorship_tag": "ABX9TyMMYtkZSqTvQirUVqH3Vw2g",
      "include_colab_link": true
    },
    "kernelspec": {
      "name": "python3",
      "display_name": "Python 3"
    },
    "language_info": {
      "name": "python"
    }
  },
  "cells": [
    {
      "cell_type": "markdown",
      "metadata": {
        "id": "view-in-github",
        "colab_type": "text"
      },
      "source": [
        "<a href=\"https://colab.research.google.com/github/igorlysov/leetcode-solutions/blob/main/solutions/Task_876.ipynb\" target=\"_parent\"><img src=\"https://colab.research.google.com/assets/colab-badge.svg\" alt=\"Open In Colab\"/></a>"
      ]
    },
    {
      "cell_type": "code",
      "execution_count": null,
      "metadata": {
        "id": "IngV4E0HPgJo"
      },
      "outputs": [],
      "source": [
        "\"\"\"\n",
        "Easy: 876. Middle of the Linked List\n",
        "\n",
        "Given the head of a singly linked list, return the middle node of the linked list.\n",
        "If there are two middle nodes, return the second middle node.\n",
        "\n",
        "Ideas:\n",
        "1) Two pointers - fast and slow:\n",
        "> if we define two 'pointers' - slow and fast:\n",
        "> > fast - traverses through the linked list over each second node\n",
        "> > slow - traverses through the whole list\n",
        "> when the fast pointer reach the list`s end, slow will only reach half of it\n",
        "It gives us: O(n) time complexity, O(1) space complexity\n",
        "\"\"\"\n",
        "def middleNode(head: Optional[ListNode]) -> Optional[ListNode]:\n",
        "        slow = fast = head\n",
        "        while fast and fast.next:\n",
        "            slow = slow.next\n",
        "            fast = fast.next.next\n",
        "        return slow"
      ]
    }
  ]
}