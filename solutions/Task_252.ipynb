{
  "nbformat": 4,
  "nbformat_minor": 0,
  "metadata": {
    "colab": {
      "name": "Task 252.ipynb",
      "provenance": [],
      "collapsed_sections": [],
      "authorship_tag": "ABX9TyODy6ZzrIeJIZRei/08sPRc",
      "include_colab_link": true
    },
    "kernelspec": {
      "name": "python3",
      "display_name": "Python 3"
    },
    "language_info": {
      "name": "python"
    }
  },
  "cells": [
    {
      "cell_type": "markdown",
      "metadata": {
        "id": "view-in-github",
        "colab_type": "text"
      },
      "source": [
        "<a href=\"https://colab.research.google.com/github/igorlysov/leetcode-solutions/blob/main/solutions/Task_252.ipynb\" target=\"_parent\"><img src=\"https://colab.research.google.com/assets/colab-badge.svg\" alt=\"Open In Colab\"/></a>"
      ]
    },
    {
      "cell_type": "code",
      "execution_count": null,
      "metadata": {
        "id": "IngV4E0HPgJo"
      },
      "outputs": [],
      "source": [
        "\"\"\"\n",
        "Easy: 252. Meeting Rooms\n",
        "\n",
        "Given an array of meeting time intervals where intervals[i] = [start_i, end_i], \n",
        "determine if a person could attend all meetings.\n",
        "\n",
        "Ideas: \n",
        "Sort and check overlapping alike from the previous task.\n",
        "It gives us: O(nLogn) time complexity, O(1) space complexity\n",
        "\"\"\"\n",
        "def canAttendMeetings(intervals: List[List[int]]) -> bool:\n",
        "  intervals.sort()\n",
        "  for i in range(len(intervals) - 1):\n",
        "    if intervals[i][1] > intervals[i + 1][0]:\n",
        "      return False\n",
        "  return True"
      ]
    }
  ]
}