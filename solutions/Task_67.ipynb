{
  "nbformat": 4,
  "nbformat_minor": 0,
  "metadata": {
    "colab": {
      "name": "Task 67.ipynb",
      "provenance": [],
      "collapsed_sections": [],
      "authorship_tag": "ABX9TyOr9e3UPlrzH9/ExU6gQOBh",
      "include_colab_link": true
    },
    "kernelspec": {
      "name": "python3",
      "display_name": "Python 3"
    },
    "language_info": {
      "name": "python"
    }
  },
  "cells": [
    {
      "cell_type": "markdown",
      "metadata": {
        "id": "view-in-github",
        "colab_type": "text"
      },
      "source": [
        "<a href=\"https://colab.research.google.com/github/igorlysov/leetcode-solutions/blob/main/solutions/Task_67.ipynb\" target=\"_parent\"><img src=\"https://colab.research.google.com/assets/colab-badge.svg\" alt=\"Open In Colab\"/></a>"
      ]
    },
    {
      "cell_type": "code",
      "execution_count": null,
      "metadata": {
        "id": "IngV4E0HPgJo"
      },
      "outputs": [],
      "source": [
        "\"\"\"\n",
        "Easy: 67. Add Binary\n",
        "\n",
        "Given two binary strings a and b, return their sum as a binary string.\n",
        "Each string does not contain leading zeros except for the zero itself.\n",
        "\n",
        "Ideas:\n",
        "let`s create some variables that will describe the addition binary overflow (1 + 1 != 2 and 1 + 1 = 10),\n",
        "two pointers of the ends of both strings. Now we need to go through the both strings from right to left and of \n",
        "we meet '0' or '1' in both we add it to the total sum, but before that we should initialize the overflow variable as \n",
        "a total sum. After the addition we should take the modulo of 2 of our bit`s position sum and turn it into string, then \n",
        "we need to concatenate it to the resulting string ftom the left side and compute the overflow by dividing the sum by 2.\n",
        "If our resulting overflow is 1, we need to concatenate '1' to the left (beginning) of our reulting string.\n",
        "It gives us: O(max(len(a), len(n))) time complexity, O(1) space complexity.\n",
        "\"\"\"\n",
        "\n",
        "def addBinary(a: str, b: str) -> str:\n",
        "  result, carry_overflow = \"\", 0\n",
        "  a_right, b_right = len(a) - 1, len(b) - 1\n",
        "  total_sum = 0\n",
        "  while a_right>= 0 or b_right >= 0:\n",
        "      total_sum = carry_overflow\n",
        "      if a_right >= 0:\n",
        "          total_sum += int(a[a_right])\n",
        "          a_right -= 1\n",
        "      if b_right >= 0:\n",
        "          total_sum += int(b[b_right])\n",
        "          b_right -= 1\n",
        "      result = str(total_sum % 2) + result\n",
        "      carry_overflow = total_sum // 2\n",
        "  if carry_overflow > 0:\n",
        "      result = '1' + result\n",
        "  return result"
      ]
    }
  ]
}