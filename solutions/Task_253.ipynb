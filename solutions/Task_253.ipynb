{
  "nbformat": 4,
  "nbformat_minor": 0,
  "metadata": {
    "colab": {
      "name": "Task 253.ipynb",
      "provenance": [],
      "collapsed_sections": [],
      "authorship_tag": "ABX9TyNa/Jh1F8AaFiH7m/nDnrVH",
      "include_colab_link": true
    },
    "kernelspec": {
      "name": "python3",
      "display_name": "Python 3"
    },
    "language_info": {
      "name": "python"
    }
  },
  "cells": [
    {
      "cell_type": "markdown",
      "metadata": {
        "id": "view-in-github",
        "colab_type": "text"
      },
      "source": [
        "<a href=\"https://colab.research.google.com/github/igorlysov/leetcode-solutions/blob/main/solutions/Task_253.ipynb\" target=\"_parent\"><img src=\"https://colab.research.google.com/assets/colab-badge.svg\" alt=\"Open In Colab\"/></a>"
      ]
    },
    {
      "cell_type": "code",
      "execution_count": null,
      "metadata": {
        "id": "IngV4E0HPgJo"
      },
      "outputs": [],
      "source": [
        "\"\"\"\n",
        "Medium: 253. Meeting Rooms II\n",
        "\n",
        "Given an array of meeting time intervals intervals where intervals[i] = [start_i, end_i],\n",
        "return the minimum number of conference rooms required.\n",
        "\n",
        "Ideas:\n",
        "Let's consider having such timetable:\n",
        "> (1, 10), (2, 7), (3, 19), (8, 12), (10, 20), (11, 30)\n",
        "> Now we can seperate start timings of our meeting and end timings and sort them - they can not only tell us about\n",
        "an overlapping, but moreover about the number of rooms which are free and not free. We can sort them because \n",
        "we dont really need WHICH meeting has overlapped or not, we need to know something about SOME meeting\n",
        "> > (1, 10), (2, 7), (3, 19), (8, 12), (10, 20), (11, 30) -> s: [1, 2, 3, 8, 10, 11] and e: [7, 10, 12, 19, 20, 30]\n",
        "> If starting time IS NOT greater than the ending time, we know that NO meeting has ended by the time the one is started, which \n",
        "means that we need A NEW ROOM:\n",
        "> > 1 < 7 -> +1 room\n",
        "> > 2 < 7 -> +1 room\n",
        "> > 3 < 7 -> +1 room\n",
        "> Otherwise (GREATER or EQUAL), we know that some meeting has ended and there is a free room which can be used. After that we will take the next \n",
        "ending timing and will repeat an algorithm.\n",
        "> > 8 > 7 -> need no room\n",
        "> > 10 >= 10 -> need no room\n",
        "> > 11 < 12 -> +1 room\n",
        "> How can we show that we dont need any rooms? Decrement and increment a counter, which will give us zero rooms.\n",
        "It gives us: O(nLogn) time complexity, O(n) space complexity\n",
        "\"\"\"\n",
        "def minMeetingRooms(intervals: List[List[int]]) -> int:\n",
        "        start_timings = sorted([interval[0] for interval in intervals])\n",
        "        end_timings = sorted([interval[1] for interval in intervals])\n",
        "        start_ptr, end_ptr, rooms_counter = 0, 0, 0\n",
        "        while start_ptr < len(intervals):\n",
        "            if start_timings[start_ptr] >= end_timings[end_ptr]:\n",
        "                rooms_counter -= 1\n",
        "                end_ptr += 1\n",
        "            rooms_counter += 1\n",
        "            start_ptr += 1\n",
        "        return rooms_counter"
      ]
    }
  ]
}