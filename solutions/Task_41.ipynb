{
  "nbformat": 4,
  "nbformat_minor": 0,
  "metadata": {
    "colab": {
      "name": "Task 41.ipynb",
      "provenance": [],
      "collapsed_sections": [],
      "authorship_tag": "ABX9TyPwmxBmJhqP3qjowkj4Jfmw",
      "include_colab_link": true
    },
    "kernelspec": {
      "name": "python3",
      "display_name": "Python 3"
    },
    "language_info": {
      "name": "python"
    }
  },
  "cells": [
    {
      "cell_type": "markdown",
      "metadata": {
        "id": "view-in-github",
        "colab_type": "text"
      },
      "source": [
        "<a href=\"https://colab.research.google.com/github/igorlysov/leetcode-solutions/blob/main/solutions/Task_41.ipynb\" target=\"_parent\"><img src=\"https://colab.research.google.com/assets/colab-badge.svg\" alt=\"Open In Colab\"/></a>"
      ]
    },
    {
      "cell_type": "code",
      "execution_count": null,
      "metadata": {
        "id": "IngV4E0HPgJo"
      },
      "outputs": [],
      "source": [
        "\"\"\"\n",
        "Hard: 41. First Missing Positive\n",
        "\n",
        "Given an unsorted integer array nums, return the smallest missing positive integer.\n",
        "\n",
        "Ideas:\n",
        "1) Brute force:\n",
        ">   for i in range(1, len(nums)+1):\n",
        "      if i not in nums: ### 'in' operation takes O(N) for lists \n",
        "        return i\n",
        "\t\t  else:\n",
        "        return i + 1\n",
        "It gives us : O(N^2) time complexity, O(1) space complexity\n",
        "\n",
        "2) Hashing optimization: if we will search in some dictionary \n",
        "instead of our 'nums' array, it will take O(1) for dictionary \n",
        "(hash-table) to use 'in' operation\n",
        "It gives us: O(N) time complexity, O(N) space complexity\n",
        "\n",
        "3) Cyclic sort:\n",
        "> Replace all the non positive numbers with a special number n+1, where n is the length of the array\n",
        "> Try to put the numbers in their correct locations. I mean, put number k in index k-1\n",
        "> Return (index+1) if number is not matching with its index\n",
        "> If all the elements are placed at their correct locations, return n+1\n",
        "It gives us: O(N) time complexity, O(1) space complexity\n",
        "\"\"\"\n",
        "def firstMissingPositive2(nums: list) -> int:\n",
        "  \"\"\"\n",
        "  This is an example of (2) approach\n",
        "  \"\"\"\n",
        "  some_dict = {}\n",
        "  for i in nums:\n",
        "    some_dict[i] = 0\n",
        "  for i in range(1, len(nums) + 1):\n",
        "    if i not in some_dict: ### takes constant O(1) time for dictionary\n",
        "      return i\n",
        "    else:\n",
        "      return i + 1\n",
        "\n",
        "def firstMissingPositive3(nums: list) -> int:\n",
        "\t# Replace all the non positive numbers with a special number n+1\n",
        "\tn = len(nums)\n",
        "\tfor i in range(n):\n",
        "\t\tif nums[i] <= 0:\n",
        "\t\t\tnums[i] = n+1\n",
        "\t# Try to put the numbers in their correct locations. Put k in index k-1\n",
        "\ti = 0\n",
        "\twhile i < n:\n",
        "\t\tj = nums[i] - 1\n",
        "\t\tif j < n and nums[i] != nums[j]:\n",
        "\t\t\tnums[i], nums[j] = nums[j], nums[i]\n",
        "\t\telse:\n",
        "\t\t\ti+=1\n",
        "\t# Return (index+1) if number is not matching with its index\n",
        "\tfor i in range(n):\n",
        "\t\tif nums[i] != i+1:\n",
        "\t\t\treturn i+1\n",
        "\t# If all the elements are placed at their correct locations, return n+1\n",
        "\treturn n+1"
      ]
    }
  ]
}