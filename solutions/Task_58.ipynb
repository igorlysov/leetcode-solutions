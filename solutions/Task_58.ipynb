{
  "nbformat": 4,
  "nbformat_minor": 0,
  "metadata": {
    "colab": {
      "name": "Task 58.ipynb",
      "provenance": [],
      "collapsed_sections": [],
      "authorship_tag": "ABX9TyMLRc38MzxQXuO2qzG9bZ2X",
      "include_colab_link": true
    },
    "kernelspec": {
      "name": "python3",
      "display_name": "Python 3"
    },
    "language_info": {
      "name": "python"
    }
  },
  "cells": [
    {
      "cell_type": "markdown",
      "metadata": {
        "id": "view-in-github",
        "colab_type": "text"
      },
      "source": [
        "<a href=\"https://colab.research.google.com/github/igorlysov/leetcode-solutions/blob/main/solutions/Task_58.ipynb\" target=\"_parent\"><img src=\"https://colab.research.google.com/assets/colab-badge.svg\" alt=\"Open In Colab\"/></a>"
      ]
    },
    {
      "cell_type": "code",
      "execution_count": null,
      "metadata": {
        "id": "IngV4E0HPgJo"
      },
      "outputs": [],
      "source": [
        "\"\"\"\n",
        "Easy: 58. Length of Last Word\n",
        "\n",
        "Given a string s consisting of some words separated by some number of spaces, return the length of the last word in the string.\n",
        "A word is a maximal substring consisting of non-space characters only.\n",
        "\n",
        "Ideas:\n",
        "Let's slice our string with space symbols ' ', after that we can go through the array from the end to start and count the length of \n",
        "the words if they're not ' '. If we meet a new space symbol ' ' after we went through the last word - we quit, cause we have already \n",
        "counted the length of the last word. Talking of the case, when the last word is ' ' and we need to skip it: we can check if our \n",
        "counter is greater that 0, cause we didn`t met any other symbols (only ' ').\n",
        "It gives us: O(len(s)) time complexity, O(1) space complexity\n",
        "\n",
        "\"\"\"\n",
        "def lengthOfLastWord(s: str) -> int:\n",
        "  lenCount = 0\n",
        "  for i in range(len(s)-1, -1, -1):\n",
        "    if s[i] != ' ':\n",
        "      lenCount += 1\n",
        "    elif lenCount > 0:\n",
        "      break\n",
        "  return lenCount"
      ]
    }
  ]
}