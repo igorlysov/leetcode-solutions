{
  "nbformat": 4,
  "nbformat_minor": 0,
  "metadata": {
    "colab": {
      "name": "Task 70.ipynb",
      "provenance": [],
      "collapsed_sections": [],
      "authorship_tag": "ABX9TyMEGOQjosFO1xMUhYtSiyeP",
      "include_colab_link": true
    },
    "kernelspec": {
      "name": "python3",
      "display_name": "Python 3"
    },
    "language_info": {
      "name": "python"
    }
  },
  "cells": [
    {
      "cell_type": "markdown",
      "metadata": {
        "id": "view-in-github",
        "colab_type": "text"
      },
      "source": [
        "<a href=\"https://colab.research.google.com/github/igorlysov/leetcode-solutions/blob/main/solutions/Task_70.ipynb\" target=\"_parent\"><img src=\"https://colab.research.google.com/assets/colab-badge.svg\" alt=\"Open In Colab\"/></a>"
      ]
    },
    {
      "cell_type": "code",
      "execution_count": null,
      "metadata": {
        "id": "IngV4E0HPgJo"
      },
      "outputs": [],
      "source": [
        "\"\"\"\n",
        "Easy: 70. Climbing Stairs\n",
        "\n",
        "You are climbing a staircase. It takes n steps to reach the top.\n",
        "Each time you can either climb 1 or 2 steps. In how many distinct ways can you climb to the top?\n",
        "\n",
        "Ideas:\n",
        "1) Fibonacci:\n",
        "> Let's imagine that's we want to know the amount of ways from the i_th stair. \n",
        "We can go to the (i - 1)_th stair or (i - 2)_th one and compute the amount of \n",
        "ways to climb for both of them. Resulting amount would be the sum of two: \n",
        "> > ways[i] = ways[i - 1] + ways[i - 2]\n",
        "> And this is the Fibonacci sequence, but it`s a little bit shifted: \n",
        "> > ways[0] = 1 (don't move), ways[1] = 1 (single step), ways[2] = 2 (1 double or 2 single)...\n",
        "It gives us: O(n) time complexity, O(1) space complexity\n",
        "\"\"\"\n",
        "def climbStairs(n: int) -> int:\n",
        "        if n <= 1:\n",
        "            return n\n",
        "        current_number = 0\n",
        "        previous_1, previous_2 = 1, 1\n",
        "        for i in range(2, n + 1): \n",
        "            current_number = previous_1 + previous_2\n",
        "            previous_2 = previous_1\n",
        "            previous_1 = current_number\n",
        "        return current_number"
      ]
    }
  ]
}