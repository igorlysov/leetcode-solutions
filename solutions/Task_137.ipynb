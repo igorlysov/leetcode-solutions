{
  "nbformat": 4,
  "nbformat_minor": 0,
  "metadata": {
    "colab": {
      "name": "Task 137.ipynb",
      "provenance": [],
      "collapsed_sections": [],
      "authorship_tag": "ABX9TyPGpxZxgfcKwiGcVL5mAqsx",
      "include_colab_link": true
    },
    "kernelspec": {
      "name": "python3",
      "display_name": "Python 3"
    },
    "language_info": {
      "name": "python"
    }
  },
  "cells": [
    {
      "cell_type": "markdown",
      "metadata": {
        "id": "view-in-github",
        "colab_type": "text"
      },
      "source": [
        "<a href=\"https://colab.research.google.com/github/igorlysov/leetcode-solutions/blob/main/solutions/Task_137.ipynb\" target=\"_parent\"><img src=\"https://colab.research.google.com/assets/colab-badge.svg\" alt=\"Open In Colab\"/></a>"
      ]
    },
    {
      "cell_type": "code",
      "execution_count": null,
      "metadata": {
        "id": "IngV4E0HPgJo"
      },
      "outputs": [],
      "source": [
        "\"\"\"\n",
        "Medium: 137. Single Number II\n",
        "\n",
        "Given an integer array nums, in which exactly two elements appear only once and all the other elements \n",
        "appear exactly twice. Find the two elements that appear only once. You can return the answer in any order.\n",
        "\n",
        "Ideas:\n",
        "1) Hash-map: let`s create a dictionary which will tell us about frequency of elements, if we meet an element \n",
        "for the first time, we give it a counter value of '1'. Otherwise, we can just delete element from dict (O(1) complexity), \n",
        "cause it appears twice.\n",
        "It gives us: O(N) from cycle + O(Answer) from list() = O(N) time complexity, O(N) space complexity \n",
        "\n",
        "2) Sort and search: let`s sort our array and compare the current number with the previous -> if they are equal, it appears\n",
        "twice\n",
        "It gives us: O(NLogN) time complexity, O(1) space complexity\n",
        "\n",
        "3) Bitwise: let`s look at an example\n",
        "> [2 2 3 2]\n",
        "  we can make some observations - let`s rewrite it with a binary representation:\n",
        "  > > 0 1 0 | (2)\n",
        "  > > 0 1 0 | (2)\n",
        "  > > 0 1 1 | (3)\n",
        "  > > 0 1 0 | (2)\n",
        "  '2' appears three times and '0`s' with '1`s' apperears three times \n",
        "  '1' appears once and '0`s' and '1`s' appears once.\n",
        "  Now let`s sum all the bits on the same bits position:\n",
        "  > > 0 1 0 | (2)\n",
        "  > > 0 1 0 | (2)\n",
        "  > > 0 1 1 | (3)\n",
        "  > > 0 1 0 | (2)\n",
        "      -----------\n",
        "  > > 0 4 1 | (+)\n",
        "  we need to remove all the elements occuring three times - let`s take the remainder under \n",
        "  the base of 3 (sum % 3) and we will get the number appeared once:\n",
        "  > > 0 4 1 | (+)\n",
        "      -----------\n",
        "      0 1 1 | (% 3)\n",
        "\n",
        "It gives us: O(N) time complexity, O(32) = O(1) space complexity\n",
        "\"\"\"\n",
        "def singleNumber2_Bitwise(nums: list) -> int:\n",
        "  answer = 0\n",
        "  for i in range(32): ### every integer has the size of 4 byte which is 32 bit\n",
        "    bitSum = 0 ### there will be our sum of all bits on the same position\n",
        "    for elem in nums:\n",
        "      \"\"\"\n",
        "      (elem >> i) - takes the i_th bit of the number (elem)\n",
        "      (elem >> i) & 1 - checks if the i_th bit is '1' with bitwise 'AND':\n",
        "      > 0 & 0 = 0\n",
        "      > 0 & 1 = 0\n",
        "      > 1 & 0 = 0\n",
        "      > 1 & 1 = 1\n",
        "      If that bit equals '1', we add it to it`s position bitSum\n",
        "      \"\"\"\n",
        "      if ((elem >> i) & 1) == 1:\n",
        "        bitSum += 1\n",
        "    \"\"\"\n",
        "    now let`s take the modulo under the base of 3\n",
        "    \"\"\"\n",
        "    if bitSum % 3 != 0: \n",
        "      \"\"\"\n",
        "      if the modulo of current position`s sum equals '1', we should \n",
        "      set '1' on the current i_th position. Bitwise 'OR' will help us:\n",
        "      > 0 | 0 = 0\n",
        "      > 0 | 1 = 1\n",
        "      > 1 | 0 = 1\n",
        "      > 1 | 1 = 1\n",
        "      and 'LEFT SHIFT' will set it on the i_th position\n",
        "      \"\"\"\n",
        "      answer = answer | 1 << i\n",
        "    \"\"\"\n",
        "    know we should consider the case of negative numbers, \n",
        "    if our answer is greater than the MaxINT, we should send \n",
        "    it to the MinINT and continue from there\n",
        "    \"\"\"\n",
        "  if answer >= 2 ** 31: \n",
        "    answer = answer - 2 ** 32\n",
        "  return answer \n",
        "\n",
        "def singleNumber2_BitwiseShort(nums: list) -> int:\n",
        "  answer = 0\n",
        "  for i in range(32):\n",
        "    bitSum = 0\n",
        "    for elem in nums:\n",
        "      bitSum += (elem >> i) & 1\n",
        "    answer |= (bitSum % 3) << i\n",
        "  return answer if answer < (1 << 31) else answer - (1 << 32)"
      ]
    }
  ]
}