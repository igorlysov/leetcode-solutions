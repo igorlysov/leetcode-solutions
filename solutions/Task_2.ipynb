{
  "nbformat": 4,
  "nbformat_minor": 0,
  "metadata": {
    "colab": {
      "name": "Task 2.ipynb",
      "provenance": [],
      "collapsed_sections": [],
      "authorship_tag": "ABX9TyMrHKmJ+GGqQ42ZV4jwkCBK",
      "include_colab_link": true
    },
    "kernelspec": {
      "name": "python3",
      "display_name": "Python 3"
    },
    "language_info": {
      "name": "python"
    }
  },
  "cells": [
    {
      "cell_type": "markdown",
      "metadata": {
        "id": "view-in-github",
        "colab_type": "text"
      },
      "source": [
        "<a href=\"https://colab.research.google.com/github/igorlysov/leetcode-solutions/blob/main/solutions/Task_2.ipynb\" target=\"_parent\"><img src=\"https://colab.research.google.com/assets/colab-badge.svg\" alt=\"Open In Colab\"/></a>"
      ]
    },
    {
      "cell_type": "code",
      "execution_count": null,
      "metadata": {
        "id": "IngV4E0HPgJo"
      },
      "outputs": [],
      "source": [
        "\"\"\"\n",
        "Medium: 2. Add Two Numbers\n",
        "\n",
        "You are given two non-empty linked lists representing two non-negative integers. The digits are stored in reverse order, \n",
        "and each of their nodes contains a single digit. Add the two numbers and return the sum as a linked list.\n",
        "You may assume the two numbers do not contain any leading zero, except the number 0 itself.\n",
        "\"\"\"\n",
        "\n",
        "class ListNode:\n",
        "    def __init__(self, val=0, next=None):\n",
        "        self.val = val\n",
        "        self.next = next\n",
        "class Solution:\n",
        "    def addTwoNumbers(self, l1: Optional[ListNode], l2: Optional[ListNode]) -> Optional[ListNode]:\n",
        "        carry_overflow = 0\n",
        "        new_head = ListNode()\n",
        "        current = new_head\n",
        "        \n",
        "        while l1 or l2:\n",
        "            current_total = 0\n",
        "            if l1:\n",
        "                current_total += l1.val\n",
        "                l1 = l1.next\n",
        "            if l2: \n",
        "                current_total += l2.val\n",
        "                l2 = l2.next\n",
        "            if carry_overflow:\n",
        "                current_total += carry_overflow\n",
        "            carry_overflow = current_total // 10\n",
        "            current_total = current_total % 10\n",
        "            \n",
        "            current_node = ListNode(current_total)\n",
        "            current.next = current_node\n",
        "            current = current.next\n",
        "        if carry_overflow:\n",
        "            overflow_node = ListNode(carry_overflow)\n",
        "            current.next = overflow_node\n",
        "        return new_head.next"
      ]
    }
  ]
}