{
  "nbformat": 4,
  "nbformat_minor": 0,
  "metadata": {
    "colab": {
      "name": "Task 3.ipynb",
      "provenance": [],
      "collapsed_sections": [],
      "authorship_tag": "ABX9TyO50feMNm3JW1tXiksLnUVT",
      "include_colab_link": true
    },
    "kernelspec": {
      "name": "python3",
      "display_name": "Python 3"
    },
    "language_info": {
      "name": "python"
    }
  },
  "cells": [
    {
      "cell_type": "markdown",
      "metadata": {
        "id": "view-in-github",
        "colab_type": "text"
      },
      "source": [
        "<a href=\"https://colab.research.google.com/github/igorlysov/leetcode-solutions/blob/main/solutions/Task_3.ipynb\" target=\"_parent\"><img src=\"https://colab.research.google.com/assets/colab-badge.svg\" alt=\"Open In Colab\"/></a>"
      ]
    },
    {
      "cell_type": "code",
      "execution_count": null,
      "metadata": {
        "id": "IngV4E0HPgJo"
      },
      "outputs": [],
      "source": [
        "\"\"\"\n",
        "Medium: 3. Longest Substring Without Repeating Characters\n",
        "\n",
        "Given a string s, find the length of the longest substring without repeating characters.\n",
        "\n",
        "Ideas:\n",
        "1) Sliding window and Unicode-hashtable:\n",
        "We can avoid enumerating all the substrings of our input string 's' by using a sliding window approach.\n",
        "> let's define two pointers: left - which will contract the window, right - will extend the window\n",
        "we set both of them to the start of our string.\n",
        "> Moreover, we will store the frequency of every single char of our string using a simple array like a \n",
        "hash table <=> index = char's unicode code <-> frequency of that char. So that we need 128 elements.\n",
        "> We slide to the right until we meet a repeating char for the second time, after that we need to change\n",
        "the left pointer. Instead of checking all the substrings between our pointers, we can skip them because of that \n",
        "repeating char.\n",
        "> We asked to find the LONGEST substring, so that we need to update our result throw every itteration - maximum between \n",
        "the current result and the substring between pointers.\n",
        "It gives us: O(n) time complexity, O(m) space complexity\n",
        "\"\"\"\n",
        "def lengthOfLongestSubstring(s: str) -> int:\n",
        "        char_frequency = [0] * 128\n",
        "        left, right = 0, 0\n",
        "        result = 0\n",
        "        while right < len(s):\n",
        "            right_char = s[right]\n",
        "            char_frequency[ord(right_char)] += 1\n",
        "            while char_frequency[ord(right_char)] > 1:\n",
        "                left_char = s[left]\n",
        "                char_frequency[ord(left_char)] -= 1\n",
        "                left += 1\n",
        "            result = max(result, right - left + 1)\n",
        "            right += 1\n",
        "        return result"
      ]
    }
  ]
}