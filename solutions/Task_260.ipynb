{
  "nbformat": 4,
  "nbformat_minor": 0,
  "metadata": {
    "colab": {
      "name": "Task 260.ipynb",
      "provenance": [],
      "collapsed_sections": [],
      "authorship_tag": "ABX9TyPHu1bnnn9q55A1ZxuP0fGb",
      "include_colab_link": true
    },
    "kernelspec": {
      "name": "python3",
      "display_name": "Python 3"
    },
    "language_info": {
      "name": "python"
    }
  },
  "cells": [
    {
      "cell_type": "markdown",
      "metadata": {
        "id": "view-in-github",
        "colab_type": "text"
      },
      "source": [
        "<a href=\"https://colab.research.google.com/github/igorlysov/leetcode-solutions/blob/main/solutions/Task_260.ipynb\" target=\"_parent\"><img src=\"https://colab.research.google.com/assets/colab-badge.svg\" alt=\"Open In Colab\"/></a>"
      ]
    },
    {
      "cell_type": "code",
      "execution_count": null,
      "metadata": {
        "id": "IngV4E0HPgJo"
      },
      "outputs": [],
      "source": [
        "\"\"\"\n",
        "Medium: 260. Single Number III\n",
        "\n",
        "Given an integer array nums, in which exactly two elements appear only once and all the other elements \n",
        "appear exactly twice. Find the two elements that appear only once. You can return the answer in any order.\n",
        "\n",
        "Ideas:\n",
        "1) Hash-map: let`s create a dictionary which will tell us about frequency of elements, if we meet an element \n",
        "for the first time, we give it a counter value of '1'. Otherwise, we can just delete element from dict (O(1) complexity), \n",
        "cause it appears twice.\n",
        "It gives us: O(N) from cycle + O(Answer) from list() = O(N) time complexity, O(N) space complexity \n",
        "\n",
        "2) Sort and search: let`s sort our array and compare the current number with the previous -> if they are equal, it appears\n",
        "twice\n",
        "It gives us: O(NLogN) time complexity, O(1) space complexity\n",
        "\n",
        "3) XOR: ???\n",
        "It gives us: O(N) time complexity, O(1) space complexity\n",
        "\"\"\"\n",
        "def singleNumber_HashMap(nums: list) -> list:\n",
        "  amountDict = {}\n",
        "  for elem in nums:\n",
        "    if elem in amountDict:\n",
        "      del amountDict[elem]\n",
        "    else:\n",
        "      amountDict[elem] = 1\n",
        "  return list(amountDict)"
      ]
    }
  ]
}