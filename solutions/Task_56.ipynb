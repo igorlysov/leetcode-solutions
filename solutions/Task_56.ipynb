{
  "nbformat": 4,
  "nbformat_minor": 0,
  "metadata": {
    "colab": {
      "name": "Task 56.ipynb",
      "provenance": [],
      "collapsed_sections": [],
      "authorship_tag": "ABX9TyNC+6W/MFrE2mNcTE6S4pqj",
      "include_colab_link": true
    },
    "kernelspec": {
      "name": "python3",
      "display_name": "Python 3"
    },
    "language_info": {
      "name": "python"
    }
  },
  "cells": [
    {
      "cell_type": "markdown",
      "metadata": {
        "id": "view-in-github",
        "colab_type": "text"
      },
      "source": [
        "<a href=\"https://colab.research.google.com/github/igorlysov/leetcode-solutions/blob/main/solutions/Task_56.ipynb\" target=\"_parent\"><img src=\"https://colab.research.google.com/assets/colab-badge.svg\" alt=\"Open In Colab\"/></a>"
      ]
    },
    {
      "cell_type": "code",
      "execution_count": null,
      "metadata": {
        "id": "IngV4E0HPgJo"
      },
      "outputs": [],
      "source": [
        "\"\"\"\n",
        "Medium: 56. Merge Intervals\n",
        "\n",
        "Given an array of intervals where intervals[i] = [starti, endi], merge all overlapping intervals, \n",
        "and return an array of the non-overlapping intervals that cover all the intervals in the input.\n",
        "\n",
        "Input: intervals = [[1,3],[2,6],[8,10],[15,18]]\n",
        "Output: [[1,6],[8,10],[15,18]]\n",
        "Explanation: Since intervals [1,3] and [2,6] overlaps, merge them into [1,6].\n",
        "\n",
        "Ideas:\n",
        "We can simplify our task with sorting our list: \n",
        "> [[2,6],[1,3],[8,10],[15,18]] -> [[1,3],[2,6],[8,10],[15,18]]\n",
        "After that let`s take each interval one by one and try to expand it if there is an overlap.\n",
        "But how can we detect one? Let`s look at two first intervals.\n",
        "> [1,3], [2,6] \n",
        "> > -1-2-3-4-5-6->\n",
        "> >  |---|\n",
        "> >    |-------|\n",
        "> We can see an overlap and it`s connected with the last int of first interval ([1,(3)] -> 3) and \n",
        "first int of the second interval ([(2),6] -> 2): we know that 2 < 3, which causes an overlap. If we want\n",
        "to find an proper non-overlaping interval, we need to take the first int of first interval and as second one\n",
        "we need to find max between second ints of both intervals. Such an algorithm will be used if there is a singular overlap\n",
        "like : [2,5], [5,7] (5 = 5)\n",
        "> We can itterate through our sorted list of intervals and try to expand from the first one.\n",
        "It gives us: O(nLogn) time complexity, O(n) space complexity\n",
        "\"\"\"\n",
        "def merge(intervals: list[list[int]]) -> list[list[int]]:\n",
        "  intervals.sort()\n",
        "  correct_interval = []\n",
        "  for interval in intervals:\n",
        "    if (not correct_interval) or (correct_interval[-1][1] < interval[0]):\n",
        "        correct_interval.append(interval)\n",
        "    else:\n",
        "        correct_interval[-1][1] = max(correct_interval[-1][1], interval[1])       \n",
        "  return correct_interval"
      ]
    }
  ]
}