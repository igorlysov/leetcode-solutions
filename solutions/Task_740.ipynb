{
  "nbformat": 4,
  "nbformat_minor": 0,
  "metadata": {
    "colab": {
      "name": "Task 740.ipynb",
      "provenance": [],
      "collapsed_sections": [],
      "authorship_tag": "ABX9TyOr+1GYzgqU8DZH0q23eLQO",
      "include_colab_link": true
    },
    "kernelspec": {
      "name": "python3",
      "display_name": "Python 3"
    },
    "language_info": {
      "name": "python"
    }
  },
  "cells": [
    {
      "cell_type": "markdown",
      "metadata": {
        "id": "view-in-github",
        "colab_type": "text"
      },
      "source": [
        "<a href=\"https://colab.research.google.com/github/igorlysov/leetcode-solutions/blob/main/solutions/Task_740.ipynb\" target=\"_parent\"><img src=\"https://colab.research.google.com/assets/colab-badge.svg\" alt=\"Open In Colab\"/></a>"
      ]
    },
    {
      "cell_type": "code",
      "execution_count": null,
      "metadata": {
        "id": "IngV4E0HPgJo"
      },
      "outputs": [],
      "source": [
        "\"\"\"\n",
        "Medium: 740. Delete and Earn\n",
        "\n",
        "You are given an integer array nums. You want to maximize the number of points you get\n",
        "by performing the following operation any number of times:\n",
        "\n",
        "Pick any nums[i] and delete it to earn nums[i] points. Afterwards, you must delete every\n",
        "element equal to nums[i] - 1 and every element equal to nums[i] + 1. Return the maximum\n",
        "number of points you can earn by applying the above operation some number of times.\n",
        "\n",
        "Ideas: \n",
        "1) Counting and 'House robber I' algorithm:\n",
        "> As we know the numbers range is under 10001 so we can define something like a dict, \n",
        "where we will count the sum of the every numbers occurance -> [2, 2, 2] => counter[2] = 3 * 2 = 6\n",
        "> After that we will do the same thing as we did in the 'House robber' task -> we will traverse \n",
        "through the array deciding where do we need to go from the i_th position - if we skip the next one, we\n",
        "go to the (i - 2)_th and that the amount of points we can get (+ counter[i]), otherwise we can try to go to\n",
        "(i - 1)_th position\n",
        "It gives us: O(n + m) time complexity, O(m) space complexity, where m - is numbers range\n",
        "\"\"\"\n",
        "def deleteAndEarn(nums: List[int]) -> int:\n",
        "     # to delete is the same as to skip\n",
        "        counter = [0] * 10001\n",
        "        for number in nums:\n",
        "            counter[number] += number # instead of count * number\n",
        "        maxOneStep = maxTwoSteps = 0\n",
        "        for i in range(len(counter)):\n",
        "            maxCurrent = max(maxOneStep, maxTwoSteps + counter[i])\n",
        "            maxTwoSteps = maxOneStep\n",
        "            maxOneStep = maxCurrent\n",
        "        return maxOneStep"
      ]
    }
  ]
}