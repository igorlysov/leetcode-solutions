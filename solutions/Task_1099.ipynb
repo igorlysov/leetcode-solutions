{
  "nbformat": 4,
  "nbformat_minor": 0,
  "metadata": {
    "colab": {
      "name": "Task 1099.ipynb",
      "provenance": [],
      "collapsed_sections": [],
      "authorship_tag": "ABX9TyNp+qodu/V/rq9r141fJzmi",
      "include_colab_link": true
    },
    "kernelspec": {
      "name": "python3",
      "display_name": "Python 3"
    },
    "language_info": {
      "name": "python"
    }
  },
  "cells": [
    {
      "cell_type": "markdown",
      "metadata": {
        "id": "view-in-github",
        "colab_type": "text"
      },
      "source": [
        "<a href=\"https://colab.research.google.com/github/igorlysov/leetcode-solutions/blob/main/solutions/Task_1099.ipynb\" target=\"_parent\"><img src=\"https://colab.research.google.com/assets/colab-badge.svg\" alt=\"Open In Colab\"/></a>"
      ]
    },
    {
      "cell_type": "code",
      "execution_count": null,
      "metadata": {
        "id": "IngV4E0HPgJo"
      },
      "outputs": [],
      "source": [
        "\"\"\"\n",
        "Easy: 1099. Two Sum Less Than K\n",
        "\n",
        "Given an array nums of integers and integer k, return the maximum sum such that there exists\n",
        "i < j with nums[i] + nums[j] = sum and sum < k. If no i, j exist satisfying this equation, return -1.\n",
        "\n",
        "Ideas:\n",
        "1) Sorting and two pointers:\n",
        "Classic two pointers approach after sorting an existing array\n",
        "It gives us: O(nLogn) time complexity, O(Logn) space complexity because of recursion.\n",
        "\n",
        "2) Counting sort:\n",
        "We can leverage the fact that the input number range is limited to [1..1000] and use a \n",
        "counting sort. Then, we can use the two pointers pattern to enumerate pairs in the [1..1000] range.\n",
        "> Count each element using the array 'counters'.\n",
        "> Set the 'left' number to 1, and 'right' - to 1000, because if the tasks domain.\n",
        "> While 'left' is smaller than, or equals 'right':\n",
        "> > If 'left + right' is greater than k, or count[hi] == 0:3\n",
        "> > > Decrement 'right'.\n",
        "> > Else:\n",
        "> > > If 'counters[left]' is greater than 0 (when 'left' < 'right'), or 1 (when 'left' == 'right'):\n",
        "> > > Track maximum 'left' + 'right' in the result answer.\n",
        "> > > Increment 'left'. Return the result answer.\n",
        "It gives us: O(n) time complexity, O(1) space complexity (O(m) to be honest where m is a domain range).\n",
        "\"\"\"\n",
        "def twoSumLessThanK1(nums: List[int], k: int) -> int:\n",
        "        nums.sort()\n",
        "        left, right = 0, len(nums) - 1\n",
        "        result = -1\n",
        "        while left < right:\n",
        "            currentSum = nums[left] + nums[right]\n",
        "            if nums[left] < k - nums[right]:\n",
        "                result = max(result, currentSum)\n",
        "                left += 1\n",
        "            else: right -= 1\n",
        "        return result\n",
        "def twoSumLessThanK2(nums: List[int], k: int) -> int:\n",
        "        result = -1\n",
        "        counters = [0] * 1001\n",
        "        for number in nums:\n",
        "            counters[number] += 1\n",
        "        left, right = 1, 1000 #len of counters = 1001 and last = 1001 - 1\n",
        "        while left <= right:\n",
        "            if left >= k - right or counters[right] == 0:\n",
        "                right -= 1\n",
        "            else:\n",
        "                if counters[left] > (0 if left < right else 1):\n",
        "                    # 1 when left == right\n",
        "                    result = max(result, left + right)\n",
        "                    left += 1\n",
        "        return result"
      ]
    }
  ]
}