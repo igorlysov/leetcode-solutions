{
  "nbformat": 4,
  "nbformat_minor": 0,
  "metadata": {
    "colab": {
      "name": "Task 53.ipynb",
      "provenance": [],
      "collapsed_sections": [],
      "authorship_tag": "ABX9TyNbGD/oN3dAHSqzoYp+vTpe",
      "include_colab_link": true
    },
    "kernelspec": {
      "name": "python3",
      "display_name": "Python 3"
    },
    "language_info": {
      "name": "python"
    }
  },
  "cells": [
    {
      "cell_type": "markdown",
      "metadata": {
        "id": "view-in-github",
        "colab_type": "text"
      },
      "source": [
        "<a href=\"https://colab.research.google.com/github/igorlysov/leetcode-solutions/blob/main/solutions/Task_53.ipynb\" target=\"_parent\"><img src=\"https://colab.research.google.com/assets/colab-badge.svg\" alt=\"Open In Colab\"/></a>"
      ]
    },
    {
      "cell_type": "code",
      "execution_count": null,
      "metadata": {
        "id": "IngV4E0HPgJo"
      },
      "outputs": [],
      "source": [
        "\"\"\"\n",
        "Easy: 53. Maximum Subarray\n",
        "\n",
        "Given an integer array nums, find the contiguous subarray (containing at least one number) which has the largest sum and return its sum.\n",
        "A subarray is a contiguous part of an array.\n",
        "\n",
        "Ideas: \n",
        "1) Kadane`s algorithm: let`s go through the array and collect the current partial sum.\n",
        "if it becomes less that 0, we will consider it equal to 0. At the every passage we will\n",
        "store the maximum of current sum (or take the maximum of the current max and current sum).\n",
        "After the whole cycle, we will have the maximum sum.\n",
        "It gives us: O(N) time complexity, O(1) space complexity\n",
        "\"\"\"\n",
        "def maxSubArray_Kadane(nums: list) -> int:\n",
        "  maxSum = float(-inf) \n",
        "  currentSum = 0\n",
        "  for element in nums:\n",
        "    currentSum += element\n",
        "    maxSum = max(maxSum, currentSum)\n",
        "    if currentSum < 0: currentSum = 0\n",
        "  return maxSum"
      ]
    }
  ]
}