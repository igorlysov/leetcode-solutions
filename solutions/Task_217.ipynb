{
  "nbformat": 4,
  "nbformat_minor": 0,
  "metadata": {
    "colab": {
      "name": "Task 217.ipynb",
      "provenance": [],
      "collapsed_sections": [],
      "authorship_tag": "ABX9TyNRZHe8RnhL+8UekyCmQ1aw",
      "include_colab_link": true
    },
    "kernelspec": {
      "name": "python3",
      "display_name": "Python 3"
    },
    "language_info": {
      "name": "python"
    }
  },
  "cells": [
    {
      "cell_type": "markdown",
      "metadata": {
        "id": "view-in-github",
        "colab_type": "text"
      },
      "source": [
        "<a href=\"https://colab.research.google.com/github/igorlysov/leetcode-solutions/blob/main/solutions/Task_217.ipynb\" target=\"_parent\"><img src=\"https://colab.research.google.com/assets/colab-badge.svg\" alt=\"Open In Colab\"/></a>"
      ]
    },
    {
      "cell_type": "code",
      "execution_count": null,
      "metadata": {
        "id": "IngV4E0HPgJo"
      },
      "outputs": [],
      "source": [
        "\"\"\"\n",
        "Easy: 217. Contains Duplicate\n",
        "\n",
        "Given an integer array nums, return true if any value appears at least twice in\n",
        "the array, and return false if every element is distinct.\n",
        "\n",
        "Idea: \n",
        "1) Hashing with dictionary\n",
        "It gives us: O(n) time complexity, O(n) space complexity\n",
        "\"\"\"\n",
        "def containsDuplicate(self, nums: List[int]) -> bool:\n",
        "  counter = {} \n",
        "  for i in nums:\n",
        "    counter[i] = 0\n",
        "  for i in nums:\n",
        "    counter[i] += 1\n",
        "    if counter[i] > 1:\n",
        "        return True\n",
        "\n",
        "  return False"
      ]
    }
  ]
}