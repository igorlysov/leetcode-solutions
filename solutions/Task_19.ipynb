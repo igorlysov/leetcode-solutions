{
  "nbformat": 4,
  "nbformat_minor": 0,
  "metadata": {
    "colab": {
      "name": "Task 19.ipynb",
      "provenance": [],
      "collapsed_sections": [],
      "authorship_tag": "ABX9TyOnUwUCLTi1fPtarskiF7sJ",
      "include_colab_link": true
    },
    "kernelspec": {
      "name": "python3",
      "display_name": "Python 3"
    },
    "language_info": {
      "name": "python"
    }
  },
  "cells": [
    {
      "cell_type": "markdown",
      "metadata": {
        "id": "view-in-github",
        "colab_type": "text"
      },
      "source": [
        "<a href=\"https://colab.research.google.com/github/igorlysov/leetcode-solutions/blob/main/solutions/Task_19.ipynb\" target=\"_parent\"><img src=\"https://colab.research.google.com/assets/colab-badge.svg\" alt=\"Open In Colab\"/></a>"
      ]
    },
    {
      "cell_type": "code",
      "execution_count": null,
      "metadata": {
        "id": "IngV4E0HPgJo"
      },
      "outputs": [],
      "source": [
        "\"\"\"\n",
        "Medium: 19. Remove Nth Node From End of List\n",
        "\n",
        "Given the head of a linked list, remove the nth node from the end of the list and return its head.\n",
        "\n",
        "Ideas: \n",
        "1) Two pointers with delay:\n",
        "> The first pointer advances the list by (n+1) steps from the beginning, while the second pointer starts from the\n",
        "beginning of the list. Now, both pointers are exactly separated by nn nodes apart. We maintain this constant\n",
        "gap by advancing both pointers together until the first pointer arrives past the last node. The second pointer\n",
        "will be pointing at the n_th node counting from the last. We relink the next pointer of the node referenced\n",
        "by the second pointer to point to the node's next next node.\n",
        "It gives us: O(n) time complexity (but better for cpu because of one traversal), O(1) space complexity\n",
        "\"\"\"\n",
        "class ListNode:\n",
        "  def __init__(self, val=0, next=None):\n",
        "    self.val = val\n",
        "    self.next = next\n",
        "def removeNthFromEnd(head: Optional[ListNode], n: int) -> Optional[ListNode]:\n",
        "        first = second = head\n",
        "        while n > 0:\n",
        "            first = first.next\n",
        "            n -= 1\n",
        "        if not first: \n",
        "            return head.next\n",
        "        while first and first.next:\n",
        "            first = first.next\n",
        "            second = second.next\n",
        "        second.next = second.next.next\n",
        "        return head"
      ]
    }
  ]
}