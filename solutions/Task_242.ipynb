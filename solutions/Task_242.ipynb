{
  "nbformat": 4,
  "nbformat_minor": 0,
  "metadata": {
    "colab": {
      "name": "Task 242.ipynb",
      "provenance": [],
      "collapsed_sections": [],
      "authorship_tag": "ABX9TyMqag424D7Bq+wp1JIxTs5U",
      "include_colab_link": true
    },
    "kernelspec": {
      "name": "python3",
      "display_name": "Python 3"
    },
    "language_info": {
      "name": "python"
    }
  },
  "cells": [
    {
      "cell_type": "markdown",
      "metadata": {
        "id": "view-in-github",
        "colab_type": "text"
      },
      "source": [
        "<a href=\"https://colab.research.google.com/github/igorlysov/leetcode-solutions/blob/main/solutions/Task_242.ipynb\" target=\"_parent\"><img src=\"https://colab.research.google.com/assets/colab-badge.svg\" alt=\"Open In Colab\"/></a>"
      ]
    },
    {
      "cell_type": "code",
      "execution_count": null,
      "metadata": {
        "id": "IngV4E0HPgJo"
      },
      "outputs": [],
      "source": [
        "\"\"\"\n",
        "Easy: 242. Valid Anagram\n",
        "\n",
        "Given two strings s and t, return true if t is an anagram of s, and false otherwise.\n",
        "An Anagram is a word or phrase formed by rearranging the letters of a different word or phrase, \n",
        "typically using all the original letters exactly once.\n",
        "\n",
        "Idea: \n",
        "1) > Count all the letters in the 's' string,\n",
        "   > If the letter of 't' string is already in the hashmap - reduce the counter\n",
        "   > If this letter has 0 counter after the cycle steps - delete it from the map\n",
        "   > If there is at least one letter that is not in 's' string and is in the 't' string - they are not anagrams\n",
        "It gives us: O(t + s) time complexity, O(s) space complexity\n",
        "\"\"\"\n",
        "def isAnagram(self, s: str, t: str) -> bool:\n",
        "        hashmap = {}\n",
        "        for letter in s:\n",
        "            hashmap[letter] = hashmap.get(letter, 0) + 1\n",
        "        for letter in t:\n",
        "            if letter in hashmap:\n",
        "                hashmap[letter] -= 1\n",
        "                if hashmap[letter] == 0:\n",
        "                    hashmap.pop(letter)\n",
        "            else:\n",
        "                return False\n",
        "        return hashmap == {}"
      ]
    }
  ]
}