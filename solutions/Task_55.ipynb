{
  "nbformat": 4,
  "nbformat_minor": 0,
  "metadata": {
    "colab": {
      "name": "Task 55.ipynb",
      "provenance": [],
      "collapsed_sections": [],
      "authorship_tag": "ABX9TyPAgnVaJ1kteXKY7pb94VOa",
      "include_colab_link": true
    },
    "kernelspec": {
      "name": "python3",
      "display_name": "Python 3"
    },
    "language_info": {
      "name": "python"
    }
  },
  "cells": [
    {
      "cell_type": "markdown",
      "metadata": {
        "id": "view-in-github",
        "colab_type": "text"
      },
      "source": [
        "<a href=\"https://colab.research.google.com/github/igorlysov/leetcode-solutions/blob/main/solutions/Task_55.ipynb\" target=\"_parent\"><img src=\"https://colab.research.google.com/assets/colab-badge.svg\" alt=\"Open In Colab\"/></a>"
      ]
    },
    {
      "cell_type": "code",
      "execution_count": null,
      "metadata": {
        "id": "IngV4E0HPgJo"
      },
      "outputs": [],
      "source": [
        "\"\"\"\n",
        "Medium: 55. Jump Game\n",
        "\n",
        "You are given an integer array nums. You are initially positioned at the array's first index, \n",
        "and each element in the array represents your maximum jump length at that position.\n",
        "Return true if you can reach the last index, or false otherwise.\n",
        "\n",
        "Ideas:\n",
        "1) Traking the farthest index we can reach by maximazing itself with the nums[i] + i (which is the \n",
        "position we can reach from the i_th position)\n",
        "It gives us: O(n) time complexity, O(1) space complexity\n",
        "\"\"\"\n",
        "def canJump(nums: List[int]) -> bool:\n",
        "        farthestIndexJump = 0\n",
        "        for i in range(len(nums)):\n",
        "            if i > farthestIndexJump:\n",
        "                return False\n",
        "            farthestIndexJump = max(farthestIndexJump, nums[i] + i)\n",
        "        return True"
      ]
    }
  ]
}