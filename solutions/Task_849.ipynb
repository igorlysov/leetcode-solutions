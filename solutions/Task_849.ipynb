{
  "nbformat": 4,
  "nbformat_minor": 0,
  "metadata": {
    "colab": {
      "name": "Task 849.ipynb",
      "provenance": [],
      "collapsed_sections": [],
      "authorship_tag": "ABX9TyNfzRBom1BV8hMhvjyPDBYV",
      "include_colab_link": true
    },
    "kernelspec": {
      "name": "python3",
      "display_name": "Python 3"
    },
    "language_info": {
      "name": "python"
    }
  },
  "cells": [
    {
      "cell_type": "markdown",
      "metadata": {
        "id": "view-in-github",
        "colab_type": "text"
      },
      "source": [
        "<a href=\"https://colab.research.google.com/github/igorlysov/leetcode-solutions/blob/main/solutions/Task_849.ipynb\" target=\"_parent\"><img src=\"https://colab.research.google.com/assets/colab-badge.svg\" alt=\"Open In Colab\"/></a>"
      ]
    },
    {
      "cell_type": "code",
      "execution_count": null,
      "metadata": {
        "id": "IngV4E0HPgJo"
      },
      "outputs": [],
      "source": [
        "\"\"\"\n",
        "Medium: 849. Maximize Distance to Closest Person (Была на собеседовании в 'Яндекс')\n",
        "\n",
        "You are given an array representing a row of seats where seats[i] = 1 represents a person sitting in the ith seat, and seats[i] = 0 \n",
        "represents that the ith seat is empty (0-indexed). There is at least one empty seat, and at least one person sitting.\n",
        "Alex wants to sit in the seat such that the distance between him and the closest person to him is maximized. \n",
        "Return that maximum distance to the closest person.\n",
        "\n",
        "Ideas:\n",
        "1) Searching between '1': The task is not about zeros, it`s about the distances between '1'. So that we can compute \n",
        "only the maximum distance between them and take the half of it as a 'radius' or maximized distance. It`ll be much \n",
        "faster that solving 'around zeros'. Let`s consider some special cases:\n",
        "> a) [0 0 0 0 1]: let`s initialize a pointer which tells us the position of the previous '1' and set it -1 by \n",
        "     default for that case -> we should only maximize the i_th (position, in other words) to the first next '1'\n",
        "     because the position of the next '1' is the maximum distance itself\n",
        "> b) [1 0 0 0 0]: in that case, we can immediatelly compute the distance because we need  only to minimize the index\n",
        "    of the previous or to maximize ((len(seats) - 1) - prevTaken) - it is the distance between the last zero and the\n",
        "    last previous '1'\n",
        "> c) [1 0 0 0 1]: it`s a common case. to calculate the maximum distance we need to take the previous (left) '1' and \n",
        "     the current (right) '1', take the half length of the segment -> (right - left) // 2\n",
        "It gives us: O(N) time complexity, O(1) space complexity\n",
        "\"\"\"\n",
        "def maxDistToClosest(seats: list) -> int:\n",
        "  prevTaken = -1\n",
        "  maxDist = 0\n",
        "  for i in range(len(seats)):\n",
        "    if seats[i] == 1:\n",
        "      if prevTaken == -1: ### (a) case\n",
        "        maxDist = max(maxDist, i)\n",
        "      else: ### (c) case\n",
        "        maxDist = max(maxDist, (i - prevTaken) // 2)\n",
        "      prevTaken = i\n",
        "  maxDist = max(maxDist, len(seats) - 1 - prevTaken) ### (b) case\n",
        "  return maxDist"
      ]
    }
  ]
}