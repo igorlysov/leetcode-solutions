{
  "nbformat": 4,
  "nbformat_minor": 0,
  "metadata": {
    "colab": {
      "name": "Task 557.ipynb",
      "provenance": [],
      "collapsed_sections": [],
      "authorship_tag": "ABX9TyMM9vr5XmL0o7k9DHjrV0Lj",
      "include_colab_link": true
    },
    "kernelspec": {
      "name": "python3",
      "display_name": "Python 3"
    },
    "language_info": {
      "name": "python"
    }
  },
  "cells": [
    {
      "cell_type": "markdown",
      "metadata": {
        "id": "view-in-github",
        "colab_type": "text"
      },
      "source": [
        "<a href=\"https://colab.research.google.com/github/igorlysov/leetcode-solutions/blob/main/solutions/Task_557.ipynb\" target=\"_parent\"><img src=\"https://colab.research.google.com/assets/colab-badge.svg\" alt=\"Open In Colab\"/></a>"
      ]
    },
    {
      "cell_type": "code",
      "execution_count": null,
      "metadata": {
        "id": "IngV4E0HPgJo"
      },
      "outputs": [],
      "source": [
        "\"\"\"\n",
        "Easy: 557. Reverse Words in a String III\n",
        "\n",
        "Given a string s, reverse the order of characters in each word within a \n",
        "sentence while still preserving whitespace and initial word order.\n",
        "\n",
        "Ideas:\n",
        "1) Reverse realization and two pointers\n",
        "It gives us: O(n) time complexity, O(n) space complexity\n",
        "\"\"\"\n",
        "def reverse(word: str) -> str:\n",
        "        word = list(word)\n",
        "        left, right = 0, len(word) - 1\n",
        "        while left < right:\n",
        "            word[left], word[right] = word[right], word[left]\n",
        "            left += 1\n",
        "            right -= 1\n",
        "        return \"\".join(word)\n",
        "def reverseWords(s: str) -> str:\n",
        "        reversed_s = \"\"\n",
        "        current_word = []\n",
        "        for word in s:\n",
        "            if word == \" \":\n",
        "                reversed_s += reverse(current_word) + ' '\n",
        "                current_word = []\n",
        "            else: current_word.append(word)\n",
        "        \n",
        "        return reversed_s + reverse(current_word)"
      ]
    }
  ]
}