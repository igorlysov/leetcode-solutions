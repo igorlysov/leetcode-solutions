{
  "nbformat": 4,
  "nbformat_minor": 0,
  "metadata": {
    "colab": {
      "name": "Task 96.ipynb",
      "provenance": [],
      "collapsed_sections": [],
      "authorship_tag": "ABX9TyNj5XsWZBuBZx91G5lJRjKV",
      "include_colab_link": true
    },
    "kernelspec": {
      "name": "python3",
      "display_name": "Python 3"
    },
    "language_info": {
      "name": "python"
    }
  },
  "cells": [
    {
      "cell_type": "markdown",
      "metadata": {
        "id": "view-in-github",
        "colab_type": "text"
      },
      "source": [
        "<a href=\"https://colab.research.google.com/github/igorlysov/leetcode-solutions/blob/main/solutions/Task_96.ipynb\" target=\"_parent\"><img src=\"https://colab.research.google.com/assets/colab-badge.svg\" alt=\"Open In Colab\"/></a>"
      ]
    },
    {
      "cell_type": "code",
      "execution_count": null,
      "metadata": {
        "id": "IngV4E0HPgJo"
      },
      "outputs": [],
      "source": [
        "\"\"\"\n",
        "Medium: 96. Unique Binary Search \n",
        "\n",
        "Given an integer n, return the number of structurally unique BST's\n",
        "(binary search trees) which has exactly n nodes of unique values from 1 to n.\n",
        "\n",
        "Ideas: \n",
        "1) The number of structurally unique BST's is described with a Catalan Numbers:\n",
        "> BST_amound = (2n)! / ((n + 1)!(n!)) = П((n + k) / k) for k from 2 to n \n",
        "\"\"\"\n",
        "def numTrees(n: int) -> int:\n",
        "  if n == 0 or n == 1:\n",
        "    return 1\n",
        "  CatalanTrees = 1.0\n",
        "  for k in range(2, n+1):\n",
        "    CatalanTrees = CatalanTrees * ((n + k) / k)\n",
        "  return round(CatalanTrees)"
      ]
    }
  ]
}