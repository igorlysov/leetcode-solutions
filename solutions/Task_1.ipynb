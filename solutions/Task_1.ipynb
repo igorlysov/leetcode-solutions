{
  "nbformat": 4,
  "nbformat_minor": 0,
  "metadata": {
    "colab": {
      "name": "Task 1.ipynb",
      "provenance": [],
      "collapsed_sections": [],
      "authorship_tag": "ABX9TyOxl/C/HYKO/dz4YYtRDUqL",
      "include_colab_link": true
    },
    "kernelspec": {
      "name": "python3",
      "display_name": "Python 3"
    },
    "language_info": {
      "name": "python"
    }
  },
  "cells": [
    {
      "cell_type": "markdown",
      "metadata": {
        "id": "view-in-github",
        "colab_type": "text"
      },
      "source": [
        "<a href=\"https://colab.research.google.com/github/igorlysov/leetcode-solutions/blob/main/solutions/Task_1.ipynb\" target=\"_parent\"><img src=\"https://colab.research.google.com/assets/colab-badge.svg\" alt=\"Open In Colab\"/></a>"
      ]
    },
    {
      "cell_type": "code",
      "execution_count": null,
      "metadata": {
        "id": "IngV4E0HPgJo"
      },
      "outputs": [],
      "source": [
        "\"\"\"\n",
        "Easy: 1. Two sum\n",
        "Given an array of integers nums and an integer target, return indices of the two numbers such that they add up to target.\n",
        "You may assume that each input would have exactly one solution, and you may not use the same element twice.\n",
        "You can return the answer in any order.\n",
        "\n",
        "Ideas: if we fix some number 'x' from 'nums' array, the number we will search for will be equal to \n",
        "'target - x'. let`s create a hash table where we will store the number and it`s index as a value, but if we meet \n",
        "a searchable number for some 'x' we will return the index of 'x' and the index of the searchable number\n",
        "It gives us: O(N) time complexity, O(N) space complexity\n",
        "\"\"\"\n",
        "def TwoSum(nums: list, target: int) -> list:\n",
        "  seenDict = {}\n",
        "  for i, elem in enumerate(nums):\n",
        "    searchable = target - elem\n",
        "    if searchable in seenDict:\n",
        "      return [i, seenDict[searchable]]\n",
        "    else: \n",
        "      seenDict[elem] = i"
      ]
    }
  ]
}