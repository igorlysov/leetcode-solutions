{
  "nbformat": 4,
  "nbformat_minor": 0,
  "metadata": {
    "colab": {
      "name": "Task 136.ipynb",
      "provenance": [],
      "collapsed_sections": [],
      "authorship_tag": "ABX9TyOtghttU6MHk80TJd/fTq43",
      "include_colab_link": true
    },
    "kernelspec": {
      "name": "python3",
      "display_name": "Python 3"
    },
    "language_info": {
      "name": "python"
    }
  },
  "cells": [
    {
      "cell_type": "markdown",
      "metadata": {
        "id": "view-in-github",
        "colab_type": "text"
      },
      "source": [
        "<a href=\"https://colab.research.google.com/github/igorlysov/leetcode-solutions/blob/main/solutions/Task_136.ipynb\" target=\"_parent\"><img src=\"https://colab.research.google.com/assets/colab-badge.svg\" alt=\"Open In Colab\"/></a>"
      ]
    },
    {
      "cell_type": "code",
      "execution_count": null,
      "metadata": {
        "id": "IngV4E0HPgJo"
      },
      "outputs": [],
      "source": [
        "\"\"\"\n",
        "Easy: 136. Single Number\n",
        "\n",
        "Given a non-empty array of integers nums, every element appears twice except for one. Find that single one.\n",
        "\n",
        "Ideas:\n",
        "1) Hash-map: let`s create a dictionary which will tell us about frequency of elements, if we meet an element \n",
        "for the first time, we give it a counter value of '1'. Otherwise, we can just delete element from dict (O(1) complexity), \n",
        "cause it appears twice.\n",
        "It gives us: O(N) from cycle + O(Answer) from list() = O(N) time complexity, O(N) space complexity \n",
        "\n",
        "2) Sort and search: let`s sort our array and compare the current number with the previous -> if they are equal, it appears\n",
        "twice\n",
        "It gives us: O(NLogN) time complexity, O(1) space complexity\n",
        "\n",
        "3) XOR: let`s use such an operation called 'XOR' or '^':\n",
        "> 0 ^ 0 = 0\n",
        "> 0 ^ 1 = 1\n",
        "> 1 ^ 0 = 1\n",
        "> 1 ^ 1 = 0\n",
        "or if write it shorter: x ^ x = 0, x ^ 0 = x\n",
        "and we can give some properties of that function:\n",
        "> x ^ y = y ^ x\n",
        "> x ^ (y ^ z) = (x ^ y) ^ z\n",
        "With that function we can delete elements that are apeared twice by computing 'XOR' for all 'nums' array elements and\n",
        "rearranging the operands : [1 2 1] -> 1 ^ 2 ^ 1 = (1 ^ 2) ^ 1 = (2 ^ 1) ^ 1 = 2 ^ (1 ^ 1) = 2 ^ 0 = 2\n",
        "It gives us: O(N) time complexity, O(1) space complexity\n",
        "\"\"\"\n",
        "def singleNumber_XOR(nums: list) -> int:\\\n",
        "  singleNum = 0\n",
        "  for elem in nums:\n",
        "    singleNum ^= elem\n",
        "  return singleNum"
      ]
    }
  ]
}