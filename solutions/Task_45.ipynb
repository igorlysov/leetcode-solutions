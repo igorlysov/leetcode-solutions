{
  "nbformat": 4,
  "nbformat_minor": 0,
  "metadata": {
    "colab": {
      "name": "Task 45.ipynb",
      "provenance": [],
      "collapsed_sections": [],
      "authorship_tag": "ABX9TyMqGOBubAdb0p3KoWUUjTk5",
      "include_colab_link": true
    },
    "kernelspec": {
      "name": "python3",
      "display_name": "Python 3"
    },
    "language_info": {
      "name": "python"
    }
  },
  "cells": [
    {
      "cell_type": "markdown",
      "metadata": {
        "id": "view-in-github",
        "colab_type": "text"
      },
      "source": [
        "<a href=\"https://colab.research.google.com/github/igorlysov/leetcode-solutions/blob/main/solutions/Task_45.ipynb\" target=\"_parent\"><img src=\"https://colab.research.google.com/assets/colab-badge.svg\" alt=\"Open In Colab\"/></a>"
      ]
    },
    {
      "cell_type": "code",
      "execution_count": null,
      "metadata": {
        "id": "IngV4E0HPgJo"
      },
      "outputs": [],
      "source": [
        "\"\"\"\n",
        "Medium: 45. Jump Game II\n",
        "\n",
        "Given an array of non-negative integers nums, you are initially positioned at the first index\n",
        "of the array. Each element in the array represents your maximum jump length at that position.\n",
        "Your goal is to reach the last index in the minimum number of jumps. You can assume that you\n",
        "can always reach the last index.\n",
        "\n",
        "Ideas:\n",
        "1) Finding the maximum farthest index in range  [start : end], where start = i + 1, end = \n",
        "= farthest index. By that we can minimaze the jumps amount.\n",
        "It gives us: O(n) time complexity, O(1) space complexity\n",
        "\"\"\"\n",
        "def jump(nums: List[int]) -> int:\n",
        "        jumps = currentEnd = farthestIndex = 0\n",
        "        for i in range(len(nums) - 1):\n",
        "            farthestIndex = max(farthestIndex, nums[i] + i)\n",
        "            if i == currentEnd:\n",
        "                currentEnd = farthestIndex\n",
        "                jumps += 1\n",
        "        return jumps"
      ]
    }
  ]
}