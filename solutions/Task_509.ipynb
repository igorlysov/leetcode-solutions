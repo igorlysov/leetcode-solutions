{
  "nbformat": 4,
  "nbformat_minor": 0,
  "metadata": {
    "colab": {
      "name": "Task 509.ipynb",
      "provenance": [],
      "collapsed_sections": [],
      "authorship_tag": "ABX9TyPhqMxhyRNoK/BkRZmi1D9F",
      "include_colab_link": true
    },
    "kernelspec": {
      "name": "python3",
      "display_name": "Python 3"
    },
    "language_info": {
      "name": "python"
    }
  },
  "cells": [
    {
      "cell_type": "markdown",
      "metadata": {
        "id": "view-in-github",
        "colab_type": "text"
      },
      "source": [
        "<a href=\"https://colab.research.google.com/github/igorlysov/leetcode-solutions/blob/main/solutions/Task_509.ipynb\" target=\"_parent\"><img src=\"https://colab.research.google.com/assets/colab-badge.svg\" alt=\"Open In Colab\"/></a>"
      ]
    },
    {
      "cell_type": "code",
      "execution_count": null,
      "metadata": {
        "id": "IngV4E0HPgJo"
      },
      "outputs": [],
      "source": [
        "\"\"\"\n",
        "Easy: 509. Fibonacci Number\n",
        "\n",
        "The Fibonacci numbers, commonly denoted F(n) form a sequence, called the Fibonacci sequence,\n",
        "such that each number is the sum of the two preceding ones, starting from 0 and 1. That is,\n",
        "F(0) = 0, F(1) = 1\n",
        "F(n) = F(n - 1) + F(n - 2), for n > 1.\n",
        "\n",
        "Given n, calculate F(n).\n",
        "Ideas:\n",
        "1) Using additional memory for not evaluting the same Fibonacci every time.\n",
        "It gives us: O(n) time complexity, O(n) space complexity\n",
        "\n",
        "2) We can notice that we need to know only two preivious numbers of the sequence\n",
        "so that we dont need additional memory\n",
        "It gives us: O(n) time complexity, O(1) space complexity\n",
        "\"\"\"\n",
        "def fib1(n: int) -> int:\n",
        "        if n <= 1:\n",
        "            return n\n",
        "        F = [0] * (n + 1)\n",
        "        F[0], F[1] = 0, 1\n",
        "        for i in range(2, n + 1):\n",
        "            F[i] = F[i - 1] + F[i - 2]\n",
        "        return F[n]\n",
        "\n",
        "def fib2(n: int) -> int:\n",
        "        if n <= 1:\n",
        "            return n\n",
        "        current_number = 0\n",
        "        previous_1 = 1\n",
        "        previous_2 = 0\n",
        "        for i in range(2, n + 1):\n",
        "          current_number = previous_1 + previous_2\n",
        "          previous_2 = previous_1\n",
        "          previous_1 = current_number\n",
        "        return current_number"
      ]
    }
  ]
}