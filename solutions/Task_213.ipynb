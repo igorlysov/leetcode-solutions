{
  "nbformat": 4,
  "nbformat_minor": 0,
  "metadata": {
    "colab": {
      "name": "Task 213.ipynb",
      "provenance": [],
      "collapsed_sections": [],
      "authorship_tag": "ABX9TyMldE9i/NIrF3ibE2MbyYbr",
      "include_colab_link": true
    },
    "kernelspec": {
      "name": "python3",
      "display_name": "Python 3"
    },
    "language_info": {
      "name": "python"
    }
  },
  "cells": [
    {
      "cell_type": "markdown",
      "metadata": {
        "id": "view-in-github",
        "colab_type": "text"
      },
      "source": [
        "<a href=\"https://colab.research.google.com/github/igorlysov/leetcode-solutions/blob/main/solutions/Task_213.ipynb\" target=\"_parent\"><img src=\"https://colab.research.google.com/assets/colab-badge.svg\" alt=\"Open In Colab\"/></a>"
      ]
    },
    {
      "cell_type": "code",
      "execution_count": null,
      "metadata": {
        "id": "IngV4E0HPgJo"
      },
      "outputs": [],
      "source": [
        "\"\"\"\n",
        "Medium: 213. House Robber II\n",
        "\n",
        "You are a professional robber planning to rob houses along a street. Each house has a certain amount\n",
        "of money stashed. All houses at this place are arranged in a circle. That means the first house is\n",
        "the neighbor of the last one. Meanwhile, adjacent houses have a security system connected, and it\n",
        "will automatically contact the police if two adjacent houses were broken into on the same night.\n",
        "\n",
        "Given an integer array nums representing the amount of money of each house, return the maximum amount\n",
        "of money you can rob tonight without alerting the police.\n",
        "\n",
        "Ideas: \n",
        "GLOBAL IDEA - Ring and offsets:\n",
        "> Let's consider we have an array of our houses' profits -> nums = [1, 2, 3, 4, 5, 6, 7]\n",
        "> We know that the first and the last house are neighbours -> 1 -> 2 -> 3 -> 4 -> 5 -> 6 -> 7\n",
        "> So the robber has two options: \n",
        "> > 1. rob first house -> can't rob the last ->  extract max profit from [1, 2, 3, 4, 5, 6] => nums[0 : n - 2]\n",
        "> > 2. rob last house -> can't rob the first ->  extract max profit from [2, 3, 4, 5, 6, 7] => nums[1 : n - 1]\n",
        "> after that we have 'House Robber I' task for two arrays and we should return the max profit.\n",
        "\n",
        "1) Optimised dynamic programming:\n",
        "> we can notice that we only need to know to houses to achive the maximum profit - next house and next next house\n",
        "It gives us: O(n) time complexity, O(1) space complexity\n",
        "\"\"\"\n",
        "def rob(nums: List[int]) -> int:\n",
        "        N = len(nums)\n",
        "        if N == 1:\n",
        "            return nums[0]\n",
        "        if N == 2:\n",
        "            max(nums[0], nums[1])\n",
        "        robFirst, robLast = nums[0], nums[1]\n",
        "        prevMax1 = prevMax2 = 0\n",
        "        for i in range(2, N):\n",
        "            temp1 = robFirst\n",
        "            robFirst = max(robFirst, prevMax1 + nums[i - 1])\n",
        "            prevMax1 = temp1\n",
        "            \n",
        "            temp2 = robLast\n",
        "            robLast = max(robLast, prevMax2 + nums[i])\n",
        "            prevMax2 = temp2\n",
        "        return max(robFirst, robLast)"
      ]
    }
  ]
}